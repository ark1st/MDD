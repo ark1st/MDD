{
 "cells": [
  {
   "cell_type": "code",
   "execution_count": 3,
   "metadata": {
    "pycharm": {
     "is_executing": false
    }
   },
   "outputs": [],
   "source": [
    "import pandas as pd\n",
    "import numpy as np\n",
    "import matplotlib.pyplot as plt\n",
    "import matplotlib.dates as md\n",
    "import os\n",
    "import mne\n",
    "import random\n",
    "from sklearn.metrics import classification_report"
   ]
  },
  {
   "cell_type": "code",
   "execution_count": 4,
   "metadata": {
    "pycharm": {
     "is_executing": false,
     "name": "#%%\n"
    }
   },
   "outputs": [
    {
     "name": "stdout",
     "text": [
      "Extracting EDF parameters from C:\\python\\study\\4월3주\\depression\\dataset\\EC\\MDD S1 EC.edf...\n",
      "EDF file detected\n",
      "Setting channel info structure...\n",
      "Creating raw.info structure...\n",
      "Extracting EDF parameters from C:\\python\\study\\4월3주\\depression\\dataset\\EC\\MDD S10 EC.edf...\n",
      "EDF file detected\n",
      "Setting channel info structure...\n",
      "Creating raw.info structure...\n",
      "Extracting EDF parameters from C:\\python\\study\\4월3주\\depression\\dataset\\EC\\MDD S11 EC.edf...\n",
      "EDF file detected\n",
      "Setting channel info structure...\n",
      "Creating raw.info structure...\n",
      "Extracting EDF parameters from C:\\python\\study\\4월3주\\depression\\dataset\\EC\\MDD S12 EC.edf...\n",
      "EDF file detected\n",
      "Setting channel info structure...\n",
      "Creating raw.info structure...\n",
      "Extracting EDF parameters from C:\\python\\study\\4월3주\\depression\\dataset\\EC\\MDD S13 EC.edf...\n",
      "EDF file detected\n",
      "Setting channel info structure...\n",
      "Creating raw.info structure...\n",
      "Extracting EDF parameters from C:\\python\\study\\4월3주\\depression\\dataset\\EC\\MDD S14 EC.edf...\n",
      "EDF file detected\n",
      "Setting channel info structure...\n",
      "Creating raw.info structure...\n",
      "Extracting EDF parameters from C:\\python\\study\\4월3주\\depression\\dataset\\EC\\MDD S15 EC.edf...\n",
      "EDF file detected\n",
      "Setting channel info structure...\n",
      "Creating raw.info structure...\n",
      "Extracting EDF parameters from C:\\python\\study\\4월3주\\depression\\dataset\\EC\\MDD S16 EC.edf...\n",
      "EDF file detected\n",
      "Setting channel info structure...\n",
      "Creating raw.info structure...\n",
      "Extracting EDF parameters from C:\\python\\study\\4월3주\\depression\\dataset\\EC\\MDD S17 EC.edf...\n",
      "EDF file detected\n",
      "Setting channel info structure...\n",
      "Creating raw.info structure...\n",
      "Extracting EDF parameters from C:\\python\\study\\4월3주\\depression\\dataset\\EC\\MDD S18 EC.edf...\n",
      "EDF file detected\n",
      "Setting channel info structure...\n",
      "Creating raw.info structure...\n",
      "Extracting EDF parameters from C:\\python\\study\\4월3주\\depression\\dataset\\EC\\MDD S19 EC.edf...\n",
      "EDF file detected\n",
      "Setting channel info structure...\n",
      "Creating raw.info structure...\n",
      "Extracting EDF parameters from C:\\python\\study\\4월3주\\depression\\dataset\\EC\\MDD S2 EC.edf...\n",
      "EDF file detected\n",
      "Setting channel info structure...\n",
      "Creating raw.info structure...\n",
      "Extracting EDF parameters from C:\\python\\study\\4월3주\\depression\\dataset\\EC\\MDD S20 EC.edf...\n",
      "EDF file detected\n",
      "Setting channel info structure...\n",
      "Creating raw.info structure...\n",
      "Extracting EDF parameters from C:\\python\\study\\4월3주\\depression\\dataset\\EC\\MDD S21 EC.edf...\n",
      "EDF file detected\n",
      "Setting channel info structure...\n",
      "Creating raw.info structure...\n",
      "Extracting EDF parameters from C:\\python\\study\\4월3주\\depression\\dataset\\EC\\MDD S22 EC.edf...\n",
      "EDF file detected\n",
      "Setting channel info structure...\n",
      "Creating raw.info structure...\n",
      "Extracting EDF parameters from C:\\python\\study\\4월3주\\depression\\dataset\\EC\\MDD S23 EC.edf...\n",
      "EDF file detected\n",
      "Setting channel info structure...\n",
      "Creating raw.info structure...\n",
      "Extracting EDF parameters from C:\\python\\study\\4월3주\\depression\\dataset\\EC\\MDD S24 EC.edf...\n",
      "EDF file detected\n",
      "Setting channel info structure...\n",
      "Creating raw.info structure...\n",
      "Extracting EDF parameters from C:\\python\\study\\4월3주\\depression\\dataset\\EC\\MDD S25 EC.edf...\n",
      "EDF file detected\n",
      "Setting channel info structure...\n",
      "Creating raw.info structure...\n",
      "Extracting EDF parameters from C:\\python\\study\\4월3주\\depression\\dataset\\EC\\MDD S26 EC.edf...\n",
      "EDF file detected\n",
      "Setting channel info structure...\n",
      "Creating raw.info structure...\n",
      "Extracting EDF parameters from C:\\python\\study\\4월3주\\depression\\dataset\\EC\\MDD S27 EC.edf...\n",
      "EDF file detected\n",
      "Setting channel info structure...\n",
      "Creating raw.info structure...\n",
      "Extracting EDF parameters from C:\\python\\study\\4월3주\\depression\\dataset\\EC\\MDD S28 EC.edf...\n",
      "EDF file detected\n",
      "Setting channel info structure...\n",
      "Creating raw.info structure...\n",
      "Extracting EDF parameters from C:\\python\\study\\4월3주\\depression\\dataset\\EC\\MDD S3 EC.edf...\n",
      "EDF file detected\n",
      "Setting channel info structure...\n",
      "Creating raw.info structure...\n",
      "Extracting EDF parameters from C:\\python\\study\\4월3주\\depression\\dataset\\EC\\MDD S4 EC.edf...\n",
      "EDF file detected\n",
      "Setting channel info structure...\n",
      "Creating raw.info structure...\n",
      "Extracting EDF parameters from C:\\python\\study\\4월3주\\depression\\dataset\\EC\\MDD S5 EC.edf...\n",
      "EDF file detected\n",
      "Setting channel info structure...\n",
      "Creating raw.info structure...\n",
      "Extracting EDF parameters from C:\\python\\study\\4월3주\\depression\\dataset\\EC\\MDD S6 EC.edf...\n",
      "EDF file detected\n",
      "Setting channel info structure...\n",
      "Creating raw.info structure...\n",
      "Extracting EDF parameters from C:\\python\\study\\4월3주\\depression\\dataset\\EC\\MDD S7 EC.edf...\n",
      "EDF file detected\n",
      "Setting channel info structure...\n",
      "Creating raw.info structure...\n",
      "Extracting EDF parameters from C:\\python\\study\\4월3주\\depression\\dataset\\EC\\MDD S8 EC.edf...\n",
      "EDF file detected\n",
      "Setting channel info structure...\n",
      "Creating raw.info structure...\n",
      "Extracting EDF parameters from C:\\python\\study\\4월3주\\depression\\dataset\\EC\\MDD S9 EC.edf...\n",
      "EDF file detected\n",
      "Setting channel info structure...\n",
      "Creating raw.info structure...\n",
      "Extracting EDF parameters from C:\\python\\study\\4월3주\\depression\\dataset\\EC\\MDD W29 EC.edf...\n",
      "EDF file detected\n",
      "Setting channel info structure...\n",
      "Creating raw.info structure...\n",
      "Extracting EDF parameters from C:\\python\\study\\4월3주\\depression\\dataset\\EC\\MDD W30 EC.edf...\n",
      "EDF file detected\n",
      "Setting channel info structure...\n",
      "Creating raw.info structure...\n",
      "Extracting EDF parameters from C:\\python\\study\\4월3주\\depression\\dataset\\EC\\S1 EC.edf...\n",
      "EDF file detected\n",
      "Setting channel info structure...\n",
      "Creating raw.info structure...\n",
      "Extracting EDF parameters from C:\\python\\study\\4월3주\\depression\\dataset\\EC\\S10  EC.edf...\n",
      "EDF file detected\n",
      "Setting channel info structure...\n",
      "Creating raw.info structure...\n",
      "Extracting EDF parameters from C:\\python\\study\\4월3주\\depression\\dataset\\EC\\S11  EC.edf...\n",
      "EDF file detected\n",
      "Setting channel info structure...\n",
      "Creating raw.info structure...\n",
      "Extracting EDF parameters from C:\\python\\study\\4월3주\\depression\\dataset\\EC\\S12  EC.edf...\n",
      "EDF file detected\n",
      "Setting channel info structure...\n",
      "Creating raw.info structure...\n",
      "Extracting EDF parameters from C:\\python\\study\\4월3주\\depression\\dataset\\EC\\S13  EC.edf...\n",
      "EDF file detected\n",
      "Setting channel info structure...\n",
      "Creating raw.info structure...\n",
      "Extracting EDF parameters from C:\\python\\study\\4월3주\\depression\\dataset\\EC\\S14  EC.edf...\n",
      "EDF file detected\n",
      "Setting channel info structure...\n",
      "Creating raw.info structure...\n",
      "Extracting EDF parameters from C:\\python\\study\\4월3주\\depression\\dataset\\EC\\S15  EC.edf...\n",
      "EDF file detected\n",
      "Setting channel info structure...\n",
      "Creating raw.info structure...\n",
      "Extracting EDF parameters from C:\\python\\study\\4월3주\\depression\\dataset\\EC\\S2 EC.edf...\n",
      "EDF file detected\n",
      "Setting channel info structure...\n",
      "Creating raw.info structure...\n",
      "Extracting EDF parameters from C:\\python\\study\\4월3주\\depression\\dataset\\EC\\S3  EC.edf...\n",
      "EDF file detected\n",
      "Setting channel info structure...\n",
      "Creating raw.info structure...\n",
      "Extracting EDF parameters from C:\\python\\study\\4월3주\\depression\\dataset\\EC\\S4  EC.edf...\n",
      "EDF file detected\n",
      "Setting channel info structure...\n",
      "Creating raw.info structure...\n",
      "Extracting EDF parameters from C:\\python\\study\\4월3주\\depression\\dataset\\EC\\S5  EC.edf...\n",
      "EDF file detected\n",
      "Setting channel info structure...\n",
      "Creating raw.info structure...\n",
      "Extracting EDF parameters from C:\\python\\study\\4월3주\\depression\\dataset\\EC\\S6  EC.edf...\n",
      "EDF file detected\n",
      "Setting channel info structure...\n",
      "Creating raw.info structure...\n",
      "Extracting EDF parameters from C:\\python\\study\\4월3주\\depression\\dataset\\EC\\S7  EC.edf...\n",
      "EDF file detected\n",
      "Setting channel info structure...\n",
      "Creating raw.info structure...\n",
      "Extracting EDF parameters from C:\\python\\study\\4월3주\\depression\\dataset\\EC\\S8  EC.edf...\n",
      "EDF file detected\n",
      "Setting channel info structure...\n",
      "Creating raw.info structure...\n",
      "Extracting EDF parameters from C:\\python\\study\\4월3주\\depression\\dataset\\EC\\S9  EC.edf...\n",
      "EDF file detected\n",
      "Setting channel info structure...\n",
      "Creating raw.info structure...\n"
     ],
     "output_type": "stream"
    }
   ],
   "source": [
    "MDD_dataset_Filenames = os.listdir('./data/MDD')\n",
    "H_dataset_Filenames = os.listdir('./data/H')\n",
    "MDD_dataset_list = []\n",
    "H_dataset_list = []\n",
    "\n",
    "for filename in MDD_dataset_Filenames:\n",
    "    data = mne.io.read_raw_edf('./dataset/EC/' + str(filename))\n",
    "    MDD_dataset_list.append(data)  \n",
    "    \n",
    "for filename in H_dataset_Filenames:\n",
    "    data = mne.io.read_raw_edf('./dataset/EC/' + str(filename))\n",
    "    H_dataset_list.append(data)  \n",
    "\n"
   ]
  },
  {
   "cell_type": "code",
   "execution_count": 4,
   "metadata": {
    "pycharm": {
     "is_executing": false,
     "name": "#%%\n"
    }
   },
   "outputs": [],
   "source": [
    "MDD_dataframe_list = [] #MDD 환자의 데이터프레임 리스트\n",
    "H_dataframe_list = [] #건강한 사람의 데이터프레임 리스트\n",
    "for raw in MDD_dataset_list:\n",
    "    raw_data = raw.get_data(return_times=True)\n",
    "    channels = raw.ch_names\n",
    "    T_data = np.transpose(raw_data[0])\n",
    "    time = np.transpose(raw_data[1])\n",
    "    temp = pd.DataFrame(T_data, columns = channels, index = time)\n",
    "    MDD_dataframe_list.append(temp)\n",
    "    \n",
    "for raw in H_dataset_list:\n",
    "    raw_data = raw.get_data(return_times=True)\n",
    "    channels = raw.ch_names\n",
    "    T_data = np.transpose(raw_data[0])\n",
    "    time = np.transpose(raw_data[1])\n",
    "    temp = pd.DataFrame(T_data, columns = channels, index = time)\n",
    "    H_dataframe_list.append(temp)\n",
    "\n",
    "MDD_dataframe_list[23].rename(columns = {'E F3-Ref': 'F3'}, inplace = True)"
   ]
  },
  {
   "cell_type": "code",
   "execution_count": 12,
   "metadata": {
    "pycharm": {
     "is_executing": false,
     "name": "#%%\n"
    }
   },
   "outputs": [],
   "source": [
    "X = {}\n",
    "y = []\n",
    "for i in range(len(MDD_dataframe_list)):\n",
    "    a = MDD_dataframe_list[i]\n",
    "    #데이터 클린징\n",
    "    a.F3 = a.F3[a.F3 > -0.0005]\n",
    "    a = a.fillna(method='ffill')\n",
    "    fft = np.fft.fft(a['F3'])\n",
    "    fft = np.abs(fft)\n",
    "    X[i] = fft\n",
    "    y.append(1)\n",
    "    \n",
    "for i in range(30, 30+len(H_dataframe_list)):\n",
    "    a = H_dataframe_list[30-i]\n",
    "    a.rename(columns = {'EEG F3-LE' : 'F3'}, inplace = True)\n",
    "    #데이터 클린징\n",
    "    a.F3 = a.F3[a.F3 > -0.0005]\n",
    "    a = a.fillna(method='ffill')\n",
    "    fft = np.fft.fft(a['F3'])\n",
    "    fft = np.abs(fft)\n",
    "    X[i] = fft\n",
    "    y.append(0)\n",
    "    \n",
    "X = pd.DataFrame.from_dict(X, orient='index')\n",
    "#X['target'] = y"
   ]
  },
  {
   "cell_type": "code",
   "execution_count": 13,
   "metadata": {
    "pycharm": {
     "is_executing": false
    }
   },
   "outputs": [
    {
     "data": {
      "text/plain": "           0         1         2         3         4         5         6      \\\n0   2.560000e-03  0.000402  0.000196  0.000241  0.000961  0.000625  0.000687   \n1   3.794708e-19  0.000542  0.000348  0.000398  0.000480  0.000587  0.000409   \n2   7.730000e-04  0.002960  0.003026  0.003104  0.003077  0.003124  0.003021   \n3   3.709000e-03  0.002026  0.002008  0.002582  0.002006  0.002121  0.002117   \n4   2.184000e-03  0.000596  0.000504  0.000334  0.000320  0.000440  0.000542   \n5   1.425000e-03  0.000152  0.000140  0.000061  0.000151  0.000286  0.000203   \n6   1.600000e-03  0.000062  0.000174  0.000192  0.000091  0.000169  0.000170   \n7   2.910000e-04  0.001008  0.001540  0.001261  0.001329  0.002247  0.000589   \n8   1.908000e-03  0.000354  0.000212  0.000358  0.000163  0.000291  0.000209   \n9   2.520000e-03  0.000271  0.000432  0.000513  0.000473  0.000813  0.000710   \n10  4.990000e-04  0.000298  0.000015  0.000496  0.000159  0.000329  0.000116   \n11  4.266000e-03  0.001437  0.001590  0.001244  0.001675  0.001654  0.001878   \n12  1.370000e-04  0.000022  0.000034  0.000083  0.000051  0.000078  0.000101   \n13  1.388000e-03  0.001005  0.001098  0.001339  0.000930  0.001307  0.001032   \n14  1.139000e-03  0.000864  0.000569  0.000746  0.000987  0.000917  0.000695   \n15  7.040000e-04  0.000202  0.000409  0.000716  0.000058  0.000522  0.000528   \n16  6.030000e-04  0.000735  0.000549  0.000500  0.000423  0.000537  0.000587   \n17  1.113000e-03  0.001334  0.001605  0.001024  0.001077  0.001144  0.000706   \n18  3.560000e-04  0.001941  0.002031  0.002009  0.002143  0.002549  0.001575   \n19  3.088000e-03  0.001692  0.001812  0.001906  0.001619  0.001773  0.001828   \n20  2.900000e-05  0.000052  0.000154  0.000044  0.000053  0.000043  0.000079   \n21  1.116000e-03  0.000524  0.000440  0.000760  0.001079  0.000766  0.000796   \n22  6.986000e-03  0.006271  0.004952  0.001410  0.003884  0.004835  0.005591   \n23  7.143000e-03  0.002868  0.001561  0.001615  0.002705  0.003089  0.002327   \n24  1.370000e-03  0.000413  0.000896  0.000583  0.000419  0.000424  0.000979   \n25  2.872000e-03  0.000870  0.001635  0.000845  0.000588  0.001001  0.001642   \n26  2.233000e-03  0.000102  0.000034  0.000094  0.000061  0.000059  0.000062   \n27  1.219000e-03  0.001255  0.001291  0.001328  0.001345  0.001268  0.001537   \n28  1.470000e-04  0.000217  0.000245  0.000238  0.000195  0.000284  0.000144   \n29  1.928000e-03  0.000735  0.000987  0.001598  0.001658  0.001867  0.000769   \n30  4.082311e-03  0.000325  0.000344  0.000332  0.000325  0.000357  0.000339   \n31  3.736885e-03  0.000015  0.000017  0.000012  0.000011  0.000015  0.000011   \n32  3.621176e-03  0.000173  0.000186  0.000169  0.000181  0.000176  0.000176   \n33  3.580873e-03  0.000215  0.000212  0.000225  0.000217  0.000209  0.000213   \n34  3.932100e-03  0.000195  0.000213  0.000196  0.000185  0.000239  0.000197   \n35  4.438939e-03  0.000594  0.000581  0.000563  0.000585  0.000604  0.000573   \n36  3.639178e-03  0.000144  0.000141  0.000136  0.000140  0.000149  0.000149   \n37  9.952459e-02  0.095567  0.095554  0.095636  0.095511  0.095472  0.095504   \n38  3.760087e-03  0.000102  0.000087  0.000087  0.000102  0.000099  0.000097   \n39  3.753486e-03  0.000100  0.000079  0.000054  0.000077  0.000072  0.000059   \n40  4.256125e-03  0.000395  0.000423  0.000424  0.000413  0.000418  0.000406   \n41  3.689381e-03  0.000159  0.000169  0.000179  0.000164  0.000182  0.000202   \n42  3.384358e-03  0.000387  0.000399  0.000380  0.000380  0.000390  0.000381   \n43  3.675780e-03  0.000165  0.000164  0.000165  0.000146  0.000162  0.000161   \n44  3.804190e-03  0.000625  0.001058  0.000656  0.000492  0.000451  0.000385   \n\n       7         8         9      ...     77302     77303     77304     77305  \\\n0   0.000728  0.001134  0.000661  ...  0.000000  0.000000  0.000000  0.000000   \n1   0.000433  0.000420  0.000231  ...  0.000000  0.000000  0.000000  0.000000   \n2   0.003005  0.003031  0.002855  ...  0.000000  0.000000  0.000000  0.000000   \n3   0.001765  0.002323  0.001868  ...  0.000000  0.000000  0.000000  0.000000   \n4   0.000648  0.000610  0.000607  ...  0.000000  0.000000  0.000000  0.000000   \n5   0.000152  0.000041  0.000051  ...  0.000000  0.000000  0.000000  0.000000   \n6   0.000133  0.000101  0.000143  ...  0.000000  0.000000  0.000000  0.000000   \n7   0.001587  0.000940  0.001639  ...  0.000000  0.000000  0.000000  0.000000   \n8   0.000391  0.000082  0.000260  ...  0.000000  0.000000  0.000000  0.000000   \n9   0.000639  0.000758  0.000333  ...  0.000000  0.000000  0.000000  0.000000   \n10  0.000432  0.000155  0.000313  ...  0.000000  0.000000  0.000000  0.000000   \n11  0.001494  0.001379  0.001484  ...  0.000000  0.000000  0.000000  0.000000   \n12  0.000068  0.000097  0.000075  ...  0.000074  0.000075  0.000097  0.000068   \n13  0.000802  0.001424  0.000695  ...  0.000000  0.000000  0.000000  0.000000   \n14  0.000688  0.000947  0.001044  ...  0.000000  0.000000  0.000000  0.000000   \n15  0.000366  0.000623  0.000403  ...  0.000000  0.000000  0.000000  0.000000   \n16  0.000549  0.000921  0.000592  ...  0.000000  0.000000  0.000000  0.000000   \n17  0.000334  0.001309  0.001514  ...  0.000000  0.000000  0.000000  0.000000   \n18  0.001968  0.002057  0.002363  ...  0.000000  0.000000  0.000000  0.000000   \n19  0.002034  0.001577  0.001993  ...  0.000000  0.000000  0.000000  0.000000   \n20  0.000020  0.000072  0.000075  ...  0.000000  0.000000  0.000000  0.000000   \n21  0.000871  0.000453  0.000563  ...  0.000000  0.000000  0.000000  0.000000   \n22  0.004207  0.002061  0.000327  ...  0.000000  0.000000  0.000000  0.000000   \n23  0.001789  0.001945  0.002735  ...  0.000000  0.000000  0.000000  0.000000   \n24  0.000697  0.000810  0.000464  ...  0.000000  0.000000  0.000000  0.000000   \n25  0.001327  0.000676  0.000913  ...  0.000000  0.000000  0.000000  0.000000   \n26  0.000106  0.000089  0.000197  ...  0.000000  0.000000  0.000000  0.000000   \n27  0.001680  0.001609  0.001660  ...  0.000000  0.000000  0.000000  0.000000   \n28  0.000360  0.000239  0.000289  ...  0.000000  0.000000  0.000000  0.000000   \n29  0.001293  0.000452  0.000448  ...  0.000000  0.000000  0.000000  0.000000   \n30  0.000332  0.000327  0.000339  ...  0.000000  0.000000  0.000000  0.000000   \n31  0.000009  0.000007  0.000008  ...  0.000000  0.000000  0.000000  0.000000   \n32  0.000187  0.000170  0.000174  ...  0.000000  0.000000  0.000000  0.000000   \n33  0.000221  0.000215  0.000219  ...  0.000213  0.000219  0.000215  0.000221   \n34  0.000177  0.000195  0.000188  ...  0.000000  0.000000  0.000000  0.000000   \n35  0.000588  0.000586  0.000586  ...  0.000000  0.000000  0.000000  0.000000   \n36  0.000138  0.000143  0.000159  ...  0.000145  0.000159  0.000143  0.000138   \n37  0.095378  0.095287  0.095293  ...  0.000000  0.000000  0.000000  0.000000   \n38  0.000096  0.000098  0.000100  ...  0.000000  0.000000  0.000000  0.000000   \n39  0.000061  0.000069  0.000058  ...  0.000000  0.000000  0.000000  0.000000   \n40  0.000412  0.000408  0.000420  ...  0.000412  0.000420  0.000408  0.000412   \n41  0.000182  0.000171  0.000161  ...  0.000000  0.000000  0.000000  0.000000   \n42  0.000394  0.000388  0.000379  ...  0.000000  0.000000  0.000000  0.000000   \n43  0.000163  0.000173  0.000149  ...  0.000000  0.000000  0.000000  0.000000   \n44  0.000532  0.000329  0.000753  ...  0.000000  0.000000  0.000000  0.000000   \n\n       77306     77307     77308     77309     77310     77311  \n0   0.000000  0.000000  0.000000  0.000000  0.000000  0.000000  \n1   0.000000  0.000000  0.000000  0.000000  0.000000  0.000000  \n2   0.000000  0.000000  0.000000  0.000000  0.000000  0.000000  \n3   0.000000  0.000000  0.000000  0.000000  0.000000  0.000000  \n4   0.000000  0.000000  0.000000  0.000000  0.000000  0.000000  \n5   0.000000  0.000000  0.000000  0.000000  0.000000  0.000000  \n6   0.000000  0.000000  0.000000  0.000000  0.000000  0.000000  \n7   0.000000  0.000000  0.000000  0.000000  0.000000  0.000000  \n8   0.000000  0.000000  0.000000  0.000000  0.000000  0.000000  \n9   0.000000  0.000000  0.000000  0.000000  0.000000  0.000000  \n10  0.000000  0.000000  0.000000  0.000000  0.000000  0.000000  \n11  0.000000  0.000000  0.000000  0.000000  0.000000  0.000000  \n12  0.000101  0.000078  0.000051  0.000083  0.000034  0.000022  \n13  0.000000  0.000000  0.000000  0.000000  0.000000  0.000000  \n14  0.000000  0.000000  0.000000  0.000000  0.000000  0.000000  \n15  0.000000  0.000000  0.000000  0.000000  0.000000  0.000000  \n16  0.000000  0.000000  0.000000  0.000000  0.000000  0.000000  \n17  0.000000  0.000000  0.000000  0.000000  0.000000  0.000000  \n18  0.000000  0.000000  0.000000  0.000000  0.000000  0.000000  \n19  0.000000  0.000000  0.000000  0.000000  0.000000  0.000000  \n20  0.000000  0.000000  0.000000  0.000000  0.000000  0.000000  \n21  0.000000  0.000000  0.000000  0.000000  0.000000  0.000000  \n22  0.000000  0.000000  0.000000  0.000000  0.000000  0.000000  \n23  0.000000  0.000000  0.000000  0.000000  0.000000  0.000000  \n24  0.000000  0.000000  0.000000  0.000000  0.000000  0.000000  \n25  0.000000  0.000000  0.000000  0.000000  0.000000  0.000000  \n26  0.000000  0.000000  0.000000  0.000000  0.000000  0.000000  \n27  0.000000  0.000000  0.000000  0.000000  0.000000  0.000000  \n28  0.000000  0.000000  0.000000  0.000000  0.000000  0.000000  \n29  0.000000  0.000000  0.000000  0.000000  0.000000  0.000000  \n30  0.000000  0.000000  0.000000  0.000000  0.000000  0.000000  \n31  0.000000  0.000000  0.000000  0.000000  0.000000  0.000000  \n32  0.000000  0.000000  0.000000  0.000000  0.000000  0.000000  \n33  0.000213  0.000209  0.000217  0.000225  0.000212  0.000215  \n34  0.000000  0.000000  0.000000  0.000000  0.000000  0.000000  \n35  0.000000  0.000000  0.000000  0.000000  0.000000  0.000000  \n36  0.000149  0.000149  0.000140  0.000136  0.000141  0.000144  \n37  0.000000  0.000000  0.000000  0.000000  0.000000  0.000000  \n38  0.000000  0.000000  0.000000  0.000000  0.000000  0.000000  \n39  0.000000  0.000000  0.000000  0.000000  0.000000  0.000000  \n40  0.000406  0.000418  0.000413  0.000424  0.000423  0.000395  \n41  0.000000  0.000000  0.000000  0.000000  0.000000  0.000000  \n42  0.000000  0.000000  0.000000  0.000000  0.000000  0.000000  \n43  0.000000  0.000000  0.000000  0.000000  0.000000  0.000000  \n44  0.000000  0.000000  0.000000  0.000000  0.000000  0.000000  \n\n[45 rows x 77312 columns]",
      "text/html": "<div>\n<style scoped>\n    .dataframe tbody tr th:only-of-type {\n        vertical-align: middle;\n    }\n\n    .dataframe tbody tr th {\n        vertical-align: top;\n    }\n\n    .dataframe thead th {\n        text-align: right;\n    }\n</style>\n<table border=\"1\" class=\"dataframe\">\n  <thead>\n    <tr style=\"text-align: right;\">\n      <th></th>\n      <th>0</th>\n      <th>1</th>\n      <th>2</th>\n      <th>3</th>\n      <th>4</th>\n      <th>5</th>\n      <th>6</th>\n      <th>7</th>\n      <th>8</th>\n      <th>9</th>\n      <th>...</th>\n      <th>77302</th>\n      <th>77303</th>\n      <th>77304</th>\n      <th>77305</th>\n      <th>77306</th>\n      <th>77307</th>\n      <th>77308</th>\n      <th>77309</th>\n      <th>77310</th>\n      <th>77311</th>\n    </tr>\n  </thead>\n  <tbody>\n    <tr>\n      <td>0</td>\n      <td>2.560000e-03</td>\n      <td>0.000402</td>\n      <td>0.000196</td>\n      <td>0.000241</td>\n      <td>0.000961</td>\n      <td>0.000625</td>\n      <td>0.000687</td>\n      <td>0.000728</td>\n      <td>0.001134</td>\n      <td>0.000661</td>\n      <td>...</td>\n      <td>0.000000</td>\n      <td>0.000000</td>\n      <td>0.000000</td>\n      <td>0.000000</td>\n      <td>0.000000</td>\n      <td>0.000000</td>\n      <td>0.000000</td>\n      <td>0.000000</td>\n      <td>0.000000</td>\n      <td>0.000000</td>\n    </tr>\n    <tr>\n      <td>1</td>\n      <td>3.794708e-19</td>\n      <td>0.000542</td>\n      <td>0.000348</td>\n      <td>0.000398</td>\n      <td>0.000480</td>\n      <td>0.000587</td>\n      <td>0.000409</td>\n      <td>0.000433</td>\n      <td>0.000420</td>\n      <td>0.000231</td>\n      <td>...</td>\n      <td>0.000000</td>\n      <td>0.000000</td>\n      <td>0.000000</td>\n      <td>0.000000</td>\n      <td>0.000000</td>\n      <td>0.000000</td>\n      <td>0.000000</td>\n      <td>0.000000</td>\n      <td>0.000000</td>\n      <td>0.000000</td>\n    </tr>\n    <tr>\n      <td>2</td>\n      <td>7.730000e-04</td>\n      <td>0.002960</td>\n      <td>0.003026</td>\n      <td>0.003104</td>\n      <td>0.003077</td>\n      <td>0.003124</td>\n      <td>0.003021</td>\n      <td>0.003005</td>\n      <td>0.003031</td>\n      <td>0.002855</td>\n      <td>...</td>\n      <td>0.000000</td>\n      <td>0.000000</td>\n      <td>0.000000</td>\n      <td>0.000000</td>\n      <td>0.000000</td>\n      <td>0.000000</td>\n      <td>0.000000</td>\n      <td>0.000000</td>\n      <td>0.000000</td>\n      <td>0.000000</td>\n    </tr>\n    <tr>\n      <td>3</td>\n      <td>3.709000e-03</td>\n      <td>0.002026</td>\n      <td>0.002008</td>\n      <td>0.002582</td>\n      <td>0.002006</td>\n      <td>0.002121</td>\n      <td>0.002117</td>\n      <td>0.001765</td>\n      <td>0.002323</td>\n      <td>0.001868</td>\n      <td>...</td>\n      <td>0.000000</td>\n      <td>0.000000</td>\n      <td>0.000000</td>\n      <td>0.000000</td>\n      <td>0.000000</td>\n      <td>0.000000</td>\n      <td>0.000000</td>\n      <td>0.000000</td>\n      <td>0.000000</td>\n      <td>0.000000</td>\n    </tr>\n    <tr>\n      <td>4</td>\n      <td>2.184000e-03</td>\n      <td>0.000596</td>\n      <td>0.000504</td>\n      <td>0.000334</td>\n      <td>0.000320</td>\n      <td>0.000440</td>\n      <td>0.000542</td>\n      <td>0.000648</td>\n      <td>0.000610</td>\n      <td>0.000607</td>\n      <td>...</td>\n      <td>0.000000</td>\n      <td>0.000000</td>\n      <td>0.000000</td>\n      <td>0.000000</td>\n      <td>0.000000</td>\n      <td>0.000000</td>\n      <td>0.000000</td>\n      <td>0.000000</td>\n      <td>0.000000</td>\n      <td>0.000000</td>\n    </tr>\n    <tr>\n      <td>5</td>\n      <td>1.425000e-03</td>\n      <td>0.000152</td>\n      <td>0.000140</td>\n      <td>0.000061</td>\n      <td>0.000151</td>\n      <td>0.000286</td>\n      <td>0.000203</td>\n      <td>0.000152</td>\n      <td>0.000041</td>\n      <td>0.000051</td>\n      <td>...</td>\n      <td>0.000000</td>\n      <td>0.000000</td>\n      <td>0.000000</td>\n      <td>0.000000</td>\n      <td>0.000000</td>\n      <td>0.000000</td>\n      <td>0.000000</td>\n      <td>0.000000</td>\n      <td>0.000000</td>\n      <td>0.000000</td>\n    </tr>\n    <tr>\n      <td>6</td>\n      <td>1.600000e-03</td>\n      <td>0.000062</td>\n      <td>0.000174</td>\n      <td>0.000192</td>\n      <td>0.000091</td>\n      <td>0.000169</td>\n      <td>0.000170</td>\n      <td>0.000133</td>\n      <td>0.000101</td>\n      <td>0.000143</td>\n      <td>...</td>\n      <td>0.000000</td>\n      <td>0.000000</td>\n      <td>0.000000</td>\n      <td>0.000000</td>\n      <td>0.000000</td>\n      <td>0.000000</td>\n      <td>0.000000</td>\n      <td>0.000000</td>\n      <td>0.000000</td>\n      <td>0.000000</td>\n    </tr>\n    <tr>\n      <td>7</td>\n      <td>2.910000e-04</td>\n      <td>0.001008</td>\n      <td>0.001540</td>\n      <td>0.001261</td>\n      <td>0.001329</td>\n      <td>0.002247</td>\n      <td>0.000589</td>\n      <td>0.001587</td>\n      <td>0.000940</td>\n      <td>0.001639</td>\n      <td>...</td>\n      <td>0.000000</td>\n      <td>0.000000</td>\n      <td>0.000000</td>\n      <td>0.000000</td>\n      <td>0.000000</td>\n      <td>0.000000</td>\n      <td>0.000000</td>\n      <td>0.000000</td>\n      <td>0.000000</td>\n      <td>0.000000</td>\n    </tr>\n    <tr>\n      <td>8</td>\n      <td>1.908000e-03</td>\n      <td>0.000354</td>\n      <td>0.000212</td>\n      <td>0.000358</td>\n      <td>0.000163</td>\n      <td>0.000291</td>\n      <td>0.000209</td>\n      <td>0.000391</td>\n      <td>0.000082</td>\n      <td>0.000260</td>\n      <td>...</td>\n      <td>0.000000</td>\n      <td>0.000000</td>\n      <td>0.000000</td>\n      <td>0.000000</td>\n      <td>0.000000</td>\n      <td>0.000000</td>\n      <td>0.000000</td>\n      <td>0.000000</td>\n      <td>0.000000</td>\n      <td>0.000000</td>\n    </tr>\n    <tr>\n      <td>9</td>\n      <td>2.520000e-03</td>\n      <td>0.000271</td>\n      <td>0.000432</td>\n      <td>0.000513</td>\n      <td>0.000473</td>\n      <td>0.000813</td>\n      <td>0.000710</td>\n      <td>0.000639</td>\n      <td>0.000758</td>\n      <td>0.000333</td>\n      <td>...</td>\n      <td>0.000000</td>\n      <td>0.000000</td>\n      <td>0.000000</td>\n      <td>0.000000</td>\n      <td>0.000000</td>\n      <td>0.000000</td>\n      <td>0.000000</td>\n      <td>0.000000</td>\n      <td>0.000000</td>\n      <td>0.000000</td>\n    </tr>\n    <tr>\n      <td>10</td>\n      <td>4.990000e-04</td>\n      <td>0.000298</td>\n      <td>0.000015</td>\n      <td>0.000496</td>\n      <td>0.000159</td>\n      <td>0.000329</td>\n      <td>0.000116</td>\n      <td>0.000432</td>\n      <td>0.000155</td>\n      <td>0.000313</td>\n      <td>...</td>\n      <td>0.000000</td>\n      <td>0.000000</td>\n      <td>0.000000</td>\n      <td>0.000000</td>\n      <td>0.000000</td>\n      <td>0.000000</td>\n      <td>0.000000</td>\n      <td>0.000000</td>\n      <td>0.000000</td>\n      <td>0.000000</td>\n    </tr>\n    <tr>\n      <td>11</td>\n      <td>4.266000e-03</td>\n      <td>0.001437</td>\n      <td>0.001590</td>\n      <td>0.001244</td>\n      <td>0.001675</td>\n      <td>0.001654</td>\n      <td>0.001878</td>\n      <td>0.001494</td>\n      <td>0.001379</td>\n      <td>0.001484</td>\n      <td>...</td>\n      <td>0.000000</td>\n      <td>0.000000</td>\n      <td>0.000000</td>\n      <td>0.000000</td>\n      <td>0.000000</td>\n      <td>0.000000</td>\n      <td>0.000000</td>\n      <td>0.000000</td>\n      <td>0.000000</td>\n      <td>0.000000</td>\n    </tr>\n    <tr>\n      <td>12</td>\n      <td>1.370000e-04</td>\n      <td>0.000022</td>\n      <td>0.000034</td>\n      <td>0.000083</td>\n      <td>0.000051</td>\n      <td>0.000078</td>\n      <td>0.000101</td>\n      <td>0.000068</td>\n      <td>0.000097</td>\n      <td>0.000075</td>\n      <td>...</td>\n      <td>0.000074</td>\n      <td>0.000075</td>\n      <td>0.000097</td>\n      <td>0.000068</td>\n      <td>0.000101</td>\n      <td>0.000078</td>\n      <td>0.000051</td>\n      <td>0.000083</td>\n      <td>0.000034</td>\n      <td>0.000022</td>\n    </tr>\n    <tr>\n      <td>13</td>\n      <td>1.388000e-03</td>\n      <td>0.001005</td>\n      <td>0.001098</td>\n      <td>0.001339</td>\n      <td>0.000930</td>\n      <td>0.001307</td>\n      <td>0.001032</td>\n      <td>0.000802</td>\n      <td>0.001424</td>\n      <td>0.000695</td>\n      <td>...</td>\n      <td>0.000000</td>\n      <td>0.000000</td>\n      <td>0.000000</td>\n      <td>0.000000</td>\n      <td>0.000000</td>\n      <td>0.000000</td>\n      <td>0.000000</td>\n      <td>0.000000</td>\n      <td>0.000000</td>\n      <td>0.000000</td>\n    </tr>\n    <tr>\n      <td>14</td>\n      <td>1.139000e-03</td>\n      <td>0.000864</td>\n      <td>0.000569</td>\n      <td>0.000746</td>\n      <td>0.000987</td>\n      <td>0.000917</td>\n      <td>0.000695</td>\n      <td>0.000688</td>\n      <td>0.000947</td>\n      <td>0.001044</td>\n      <td>...</td>\n      <td>0.000000</td>\n      <td>0.000000</td>\n      <td>0.000000</td>\n      <td>0.000000</td>\n      <td>0.000000</td>\n      <td>0.000000</td>\n      <td>0.000000</td>\n      <td>0.000000</td>\n      <td>0.000000</td>\n      <td>0.000000</td>\n    </tr>\n    <tr>\n      <td>15</td>\n      <td>7.040000e-04</td>\n      <td>0.000202</td>\n      <td>0.000409</td>\n      <td>0.000716</td>\n      <td>0.000058</td>\n      <td>0.000522</td>\n      <td>0.000528</td>\n      <td>0.000366</td>\n      <td>0.000623</td>\n      <td>0.000403</td>\n      <td>...</td>\n      <td>0.000000</td>\n      <td>0.000000</td>\n      <td>0.000000</td>\n      <td>0.000000</td>\n      <td>0.000000</td>\n      <td>0.000000</td>\n      <td>0.000000</td>\n      <td>0.000000</td>\n      <td>0.000000</td>\n      <td>0.000000</td>\n    </tr>\n    <tr>\n      <td>16</td>\n      <td>6.030000e-04</td>\n      <td>0.000735</td>\n      <td>0.000549</td>\n      <td>0.000500</td>\n      <td>0.000423</td>\n      <td>0.000537</td>\n      <td>0.000587</td>\n      <td>0.000549</td>\n      <td>0.000921</td>\n      <td>0.000592</td>\n      <td>...</td>\n      <td>0.000000</td>\n      <td>0.000000</td>\n      <td>0.000000</td>\n      <td>0.000000</td>\n      <td>0.000000</td>\n      <td>0.000000</td>\n      <td>0.000000</td>\n      <td>0.000000</td>\n      <td>0.000000</td>\n      <td>0.000000</td>\n    </tr>\n    <tr>\n      <td>17</td>\n      <td>1.113000e-03</td>\n      <td>0.001334</td>\n      <td>0.001605</td>\n      <td>0.001024</td>\n      <td>0.001077</td>\n      <td>0.001144</td>\n      <td>0.000706</td>\n      <td>0.000334</td>\n      <td>0.001309</td>\n      <td>0.001514</td>\n      <td>...</td>\n      <td>0.000000</td>\n      <td>0.000000</td>\n      <td>0.000000</td>\n      <td>0.000000</td>\n      <td>0.000000</td>\n      <td>0.000000</td>\n      <td>0.000000</td>\n      <td>0.000000</td>\n      <td>0.000000</td>\n      <td>0.000000</td>\n    </tr>\n    <tr>\n      <td>18</td>\n      <td>3.560000e-04</td>\n      <td>0.001941</td>\n      <td>0.002031</td>\n      <td>0.002009</td>\n      <td>0.002143</td>\n      <td>0.002549</td>\n      <td>0.001575</td>\n      <td>0.001968</td>\n      <td>0.002057</td>\n      <td>0.002363</td>\n      <td>...</td>\n      <td>0.000000</td>\n      <td>0.000000</td>\n      <td>0.000000</td>\n      <td>0.000000</td>\n      <td>0.000000</td>\n      <td>0.000000</td>\n      <td>0.000000</td>\n      <td>0.000000</td>\n      <td>0.000000</td>\n      <td>0.000000</td>\n    </tr>\n    <tr>\n      <td>19</td>\n      <td>3.088000e-03</td>\n      <td>0.001692</td>\n      <td>0.001812</td>\n      <td>0.001906</td>\n      <td>0.001619</td>\n      <td>0.001773</td>\n      <td>0.001828</td>\n      <td>0.002034</td>\n      <td>0.001577</td>\n      <td>0.001993</td>\n      <td>...</td>\n      <td>0.000000</td>\n      <td>0.000000</td>\n      <td>0.000000</td>\n      <td>0.000000</td>\n      <td>0.000000</td>\n      <td>0.000000</td>\n      <td>0.000000</td>\n      <td>0.000000</td>\n      <td>0.000000</td>\n      <td>0.000000</td>\n    </tr>\n    <tr>\n      <td>20</td>\n      <td>2.900000e-05</td>\n      <td>0.000052</td>\n      <td>0.000154</td>\n      <td>0.000044</td>\n      <td>0.000053</td>\n      <td>0.000043</td>\n      <td>0.000079</td>\n      <td>0.000020</td>\n      <td>0.000072</td>\n      <td>0.000075</td>\n      <td>...</td>\n      <td>0.000000</td>\n      <td>0.000000</td>\n      <td>0.000000</td>\n      <td>0.000000</td>\n      <td>0.000000</td>\n      <td>0.000000</td>\n      <td>0.000000</td>\n      <td>0.000000</td>\n      <td>0.000000</td>\n      <td>0.000000</td>\n    </tr>\n    <tr>\n      <td>21</td>\n      <td>1.116000e-03</td>\n      <td>0.000524</td>\n      <td>0.000440</td>\n      <td>0.000760</td>\n      <td>0.001079</td>\n      <td>0.000766</td>\n      <td>0.000796</td>\n      <td>0.000871</td>\n      <td>0.000453</td>\n      <td>0.000563</td>\n      <td>...</td>\n      <td>0.000000</td>\n      <td>0.000000</td>\n      <td>0.000000</td>\n      <td>0.000000</td>\n      <td>0.000000</td>\n      <td>0.000000</td>\n      <td>0.000000</td>\n      <td>0.000000</td>\n      <td>0.000000</td>\n      <td>0.000000</td>\n    </tr>\n    <tr>\n      <td>22</td>\n      <td>6.986000e-03</td>\n      <td>0.006271</td>\n      <td>0.004952</td>\n      <td>0.001410</td>\n      <td>0.003884</td>\n      <td>0.004835</td>\n      <td>0.005591</td>\n      <td>0.004207</td>\n      <td>0.002061</td>\n      <td>0.000327</td>\n      <td>...</td>\n      <td>0.000000</td>\n      <td>0.000000</td>\n      <td>0.000000</td>\n      <td>0.000000</td>\n      <td>0.000000</td>\n      <td>0.000000</td>\n      <td>0.000000</td>\n      <td>0.000000</td>\n      <td>0.000000</td>\n      <td>0.000000</td>\n    </tr>\n    <tr>\n      <td>23</td>\n      <td>7.143000e-03</td>\n      <td>0.002868</td>\n      <td>0.001561</td>\n      <td>0.001615</td>\n      <td>0.002705</td>\n      <td>0.003089</td>\n      <td>0.002327</td>\n      <td>0.001789</td>\n      <td>0.001945</td>\n      <td>0.002735</td>\n      <td>...</td>\n      <td>0.000000</td>\n      <td>0.000000</td>\n      <td>0.000000</td>\n      <td>0.000000</td>\n      <td>0.000000</td>\n      <td>0.000000</td>\n      <td>0.000000</td>\n      <td>0.000000</td>\n      <td>0.000000</td>\n      <td>0.000000</td>\n    </tr>\n    <tr>\n      <td>24</td>\n      <td>1.370000e-03</td>\n      <td>0.000413</td>\n      <td>0.000896</td>\n      <td>0.000583</td>\n      <td>0.000419</td>\n      <td>0.000424</td>\n      <td>0.000979</td>\n      <td>0.000697</td>\n      <td>0.000810</td>\n      <td>0.000464</td>\n      <td>...</td>\n      <td>0.000000</td>\n      <td>0.000000</td>\n      <td>0.000000</td>\n      <td>0.000000</td>\n      <td>0.000000</td>\n      <td>0.000000</td>\n      <td>0.000000</td>\n      <td>0.000000</td>\n      <td>0.000000</td>\n      <td>0.000000</td>\n    </tr>\n    <tr>\n      <td>25</td>\n      <td>2.872000e-03</td>\n      <td>0.000870</td>\n      <td>0.001635</td>\n      <td>0.000845</td>\n      <td>0.000588</td>\n      <td>0.001001</td>\n      <td>0.001642</td>\n      <td>0.001327</td>\n      <td>0.000676</td>\n      <td>0.000913</td>\n      <td>...</td>\n      <td>0.000000</td>\n      <td>0.000000</td>\n      <td>0.000000</td>\n      <td>0.000000</td>\n      <td>0.000000</td>\n      <td>0.000000</td>\n      <td>0.000000</td>\n      <td>0.000000</td>\n      <td>0.000000</td>\n      <td>0.000000</td>\n    </tr>\n    <tr>\n      <td>26</td>\n      <td>2.233000e-03</td>\n      <td>0.000102</td>\n      <td>0.000034</td>\n      <td>0.000094</td>\n      <td>0.000061</td>\n      <td>0.000059</td>\n      <td>0.000062</td>\n      <td>0.000106</td>\n      <td>0.000089</td>\n      <td>0.000197</td>\n      <td>...</td>\n      <td>0.000000</td>\n      <td>0.000000</td>\n      <td>0.000000</td>\n      <td>0.000000</td>\n      <td>0.000000</td>\n      <td>0.000000</td>\n      <td>0.000000</td>\n      <td>0.000000</td>\n      <td>0.000000</td>\n      <td>0.000000</td>\n    </tr>\n    <tr>\n      <td>27</td>\n      <td>1.219000e-03</td>\n      <td>0.001255</td>\n      <td>0.001291</td>\n      <td>0.001328</td>\n      <td>0.001345</td>\n      <td>0.001268</td>\n      <td>0.001537</td>\n      <td>0.001680</td>\n      <td>0.001609</td>\n      <td>0.001660</td>\n      <td>...</td>\n      <td>0.000000</td>\n      <td>0.000000</td>\n      <td>0.000000</td>\n      <td>0.000000</td>\n      <td>0.000000</td>\n      <td>0.000000</td>\n      <td>0.000000</td>\n      <td>0.000000</td>\n      <td>0.000000</td>\n      <td>0.000000</td>\n    </tr>\n    <tr>\n      <td>28</td>\n      <td>1.470000e-04</td>\n      <td>0.000217</td>\n      <td>0.000245</td>\n      <td>0.000238</td>\n      <td>0.000195</td>\n      <td>0.000284</td>\n      <td>0.000144</td>\n      <td>0.000360</td>\n      <td>0.000239</td>\n      <td>0.000289</td>\n      <td>...</td>\n      <td>0.000000</td>\n      <td>0.000000</td>\n      <td>0.000000</td>\n      <td>0.000000</td>\n      <td>0.000000</td>\n      <td>0.000000</td>\n      <td>0.000000</td>\n      <td>0.000000</td>\n      <td>0.000000</td>\n      <td>0.000000</td>\n    </tr>\n    <tr>\n      <td>29</td>\n      <td>1.928000e-03</td>\n      <td>0.000735</td>\n      <td>0.000987</td>\n      <td>0.001598</td>\n      <td>0.001658</td>\n      <td>0.001867</td>\n      <td>0.000769</td>\n      <td>0.001293</td>\n      <td>0.000452</td>\n      <td>0.000448</td>\n      <td>...</td>\n      <td>0.000000</td>\n      <td>0.000000</td>\n      <td>0.000000</td>\n      <td>0.000000</td>\n      <td>0.000000</td>\n      <td>0.000000</td>\n      <td>0.000000</td>\n      <td>0.000000</td>\n      <td>0.000000</td>\n      <td>0.000000</td>\n    </tr>\n    <tr>\n      <td>30</td>\n      <td>4.082311e-03</td>\n      <td>0.000325</td>\n      <td>0.000344</td>\n      <td>0.000332</td>\n      <td>0.000325</td>\n      <td>0.000357</td>\n      <td>0.000339</td>\n      <td>0.000332</td>\n      <td>0.000327</td>\n      <td>0.000339</td>\n      <td>...</td>\n      <td>0.000000</td>\n      <td>0.000000</td>\n      <td>0.000000</td>\n      <td>0.000000</td>\n      <td>0.000000</td>\n      <td>0.000000</td>\n      <td>0.000000</td>\n      <td>0.000000</td>\n      <td>0.000000</td>\n      <td>0.000000</td>\n    </tr>\n    <tr>\n      <td>31</td>\n      <td>3.736885e-03</td>\n      <td>0.000015</td>\n      <td>0.000017</td>\n      <td>0.000012</td>\n      <td>0.000011</td>\n      <td>0.000015</td>\n      <td>0.000011</td>\n      <td>0.000009</td>\n      <td>0.000007</td>\n      <td>0.000008</td>\n      <td>...</td>\n      <td>0.000000</td>\n      <td>0.000000</td>\n      <td>0.000000</td>\n      <td>0.000000</td>\n      <td>0.000000</td>\n      <td>0.000000</td>\n      <td>0.000000</td>\n      <td>0.000000</td>\n      <td>0.000000</td>\n      <td>0.000000</td>\n    </tr>\n    <tr>\n      <td>32</td>\n      <td>3.621176e-03</td>\n      <td>0.000173</td>\n      <td>0.000186</td>\n      <td>0.000169</td>\n      <td>0.000181</td>\n      <td>0.000176</td>\n      <td>0.000176</td>\n      <td>0.000187</td>\n      <td>0.000170</td>\n      <td>0.000174</td>\n      <td>...</td>\n      <td>0.000000</td>\n      <td>0.000000</td>\n      <td>0.000000</td>\n      <td>0.000000</td>\n      <td>0.000000</td>\n      <td>0.000000</td>\n      <td>0.000000</td>\n      <td>0.000000</td>\n      <td>0.000000</td>\n      <td>0.000000</td>\n    </tr>\n    <tr>\n      <td>33</td>\n      <td>3.580873e-03</td>\n      <td>0.000215</td>\n      <td>0.000212</td>\n      <td>0.000225</td>\n      <td>0.000217</td>\n      <td>0.000209</td>\n      <td>0.000213</td>\n      <td>0.000221</td>\n      <td>0.000215</td>\n      <td>0.000219</td>\n      <td>...</td>\n      <td>0.000213</td>\n      <td>0.000219</td>\n      <td>0.000215</td>\n      <td>0.000221</td>\n      <td>0.000213</td>\n      <td>0.000209</td>\n      <td>0.000217</td>\n      <td>0.000225</td>\n      <td>0.000212</td>\n      <td>0.000215</td>\n    </tr>\n    <tr>\n      <td>34</td>\n      <td>3.932100e-03</td>\n      <td>0.000195</td>\n      <td>0.000213</td>\n      <td>0.000196</td>\n      <td>0.000185</td>\n      <td>0.000239</td>\n      <td>0.000197</td>\n      <td>0.000177</td>\n      <td>0.000195</td>\n      <td>0.000188</td>\n      <td>...</td>\n      <td>0.000000</td>\n      <td>0.000000</td>\n      <td>0.000000</td>\n      <td>0.000000</td>\n      <td>0.000000</td>\n      <td>0.000000</td>\n      <td>0.000000</td>\n      <td>0.000000</td>\n      <td>0.000000</td>\n      <td>0.000000</td>\n    </tr>\n    <tr>\n      <td>35</td>\n      <td>4.438939e-03</td>\n      <td>0.000594</td>\n      <td>0.000581</td>\n      <td>0.000563</td>\n      <td>0.000585</td>\n      <td>0.000604</td>\n      <td>0.000573</td>\n      <td>0.000588</td>\n      <td>0.000586</td>\n      <td>0.000586</td>\n      <td>...</td>\n      <td>0.000000</td>\n      <td>0.000000</td>\n      <td>0.000000</td>\n      <td>0.000000</td>\n      <td>0.000000</td>\n      <td>0.000000</td>\n      <td>0.000000</td>\n      <td>0.000000</td>\n      <td>0.000000</td>\n      <td>0.000000</td>\n    </tr>\n    <tr>\n      <td>36</td>\n      <td>3.639178e-03</td>\n      <td>0.000144</td>\n      <td>0.000141</td>\n      <td>0.000136</td>\n      <td>0.000140</td>\n      <td>0.000149</td>\n      <td>0.000149</td>\n      <td>0.000138</td>\n      <td>0.000143</td>\n      <td>0.000159</td>\n      <td>...</td>\n      <td>0.000145</td>\n      <td>0.000159</td>\n      <td>0.000143</td>\n      <td>0.000138</td>\n      <td>0.000149</td>\n      <td>0.000149</td>\n      <td>0.000140</td>\n      <td>0.000136</td>\n      <td>0.000141</td>\n      <td>0.000144</td>\n    </tr>\n    <tr>\n      <td>37</td>\n      <td>9.952459e-02</td>\n      <td>0.095567</td>\n      <td>0.095554</td>\n      <td>0.095636</td>\n      <td>0.095511</td>\n      <td>0.095472</td>\n      <td>0.095504</td>\n      <td>0.095378</td>\n      <td>0.095287</td>\n      <td>0.095293</td>\n      <td>...</td>\n      <td>0.000000</td>\n      <td>0.000000</td>\n      <td>0.000000</td>\n      <td>0.000000</td>\n      <td>0.000000</td>\n      <td>0.000000</td>\n      <td>0.000000</td>\n      <td>0.000000</td>\n      <td>0.000000</td>\n      <td>0.000000</td>\n    </tr>\n    <tr>\n      <td>38</td>\n      <td>3.760087e-03</td>\n      <td>0.000102</td>\n      <td>0.000087</td>\n      <td>0.000087</td>\n      <td>0.000102</td>\n      <td>0.000099</td>\n      <td>0.000097</td>\n      <td>0.000096</td>\n      <td>0.000098</td>\n      <td>0.000100</td>\n      <td>...</td>\n      <td>0.000000</td>\n      <td>0.000000</td>\n      <td>0.000000</td>\n      <td>0.000000</td>\n      <td>0.000000</td>\n      <td>0.000000</td>\n      <td>0.000000</td>\n      <td>0.000000</td>\n      <td>0.000000</td>\n      <td>0.000000</td>\n    </tr>\n    <tr>\n      <td>39</td>\n      <td>3.753486e-03</td>\n      <td>0.000100</td>\n      <td>0.000079</td>\n      <td>0.000054</td>\n      <td>0.000077</td>\n      <td>0.000072</td>\n      <td>0.000059</td>\n      <td>0.000061</td>\n      <td>0.000069</td>\n      <td>0.000058</td>\n      <td>...</td>\n      <td>0.000000</td>\n      <td>0.000000</td>\n      <td>0.000000</td>\n      <td>0.000000</td>\n      <td>0.000000</td>\n      <td>0.000000</td>\n      <td>0.000000</td>\n      <td>0.000000</td>\n      <td>0.000000</td>\n      <td>0.000000</td>\n    </tr>\n    <tr>\n      <td>40</td>\n      <td>4.256125e-03</td>\n      <td>0.000395</td>\n      <td>0.000423</td>\n      <td>0.000424</td>\n      <td>0.000413</td>\n      <td>0.000418</td>\n      <td>0.000406</td>\n      <td>0.000412</td>\n      <td>0.000408</td>\n      <td>0.000420</td>\n      <td>...</td>\n      <td>0.000412</td>\n      <td>0.000420</td>\n      <td>0.000408</td>\n      <td>0.000412</td>\n      <td>0.000406</td>\n      <td>0.000418</td>\n      <td>0.000413</td>\n      <td>0.000424</td>\n      <td>0.000423</td>\n      <td>0.000395</td>\n    </tr>\n    <tr>\n      <td>41</td>\n      <td>3.689381e-03</td>\n      <td>0.000159</td>\n      <td>0.000169</td>\n      <td>0.000179</td>\n      <td>0.000164</td>\n      <td>0.000182</td>\n      <td>0.000202</td>\n      <td>0.000182</td>\n      <td>0.000171</td>\n      <td>0.000161</td>\n      <td>...</td>\n      <td>0.000000</td>\n      <td>0.000000</td>\n      <td>0.000000</td>\n      <td>0.000000</td>\n      <td>0.000000</td>\n      <td>0.000000</td>\n      <td>0.000000</td>\n      <td>0.000000</td>\n      <td>0.000000</td>\n      <td>0.000000</td>\n    </tr>\n    <tr>\n      <td>42</td>\n      <td>3.384358e-03</td>\n      <td>0.000387</td>\n      <td>0.000399</td>\n      <td>0.000380</td>\n      <td>0.000380</td>\n      <td>0.000390</td>\n      <td>0.000381</td>\n      <td>0.000394</td>\n      <td>0.000388</td>\n      <td>0.000379</td>\n      <td>...</td>\n      <td>0.000000</td>\n      <td>0.000000</td>\n      <td>0.000000</td>\n      <td>0.000000</td>\n      <td>0.000000</td>\n      <td>0.000000</td>\n      <td>0.000000</td>\n      <td>0.000000</td>\n      <td>0.000000</td>\n      <td>0.000000</td>\n    </tr>\n    <tr>\n      <td>43</td>\n      <td>3.675780e-03</td>\n      <td>0.000165</td>\n      <td>0.000164</td>\n      <td>0.000165</td>\n      <td>0.000146</td>\n      <td>0.000162</td>\n      <td>0.000161</td>\n      <td>0.000163</td>\n      <td>0.000173</td>\n      <td>0.000149</td>\n      <td>...</td>\n      <td>0.000000</td>\n      <td>0.000000</td>\n      <td>0.000000</td>\n      <td>0.000000</td>\n      <td>0.000000</td>\n      <td>0.000000</td>\n      <td>0.000000</td>\n      <td>0.000000</td>\n      <td>0.000000</td>\n      <td>0.000000</td>\n    </tr>\n    <tr>\n      <td>44</td>\n      <td>3.804190e-03</td>\n      <td>0.000625</td>\n      <td>0.001058</td>\n      <td>0.000656</td>\n      <td>0.000492</td>\n      <td>0.000451</td>\n      <td>0.000385</td>\n      <td>0.000532</td>\n      <td>0.000329</td>\n      <td>0.000753</td>\n      <td>...</td>\n      <td>0.000000</td>\n      <td>0.000000</td>\n      <td>0.000000</td>\n      <td>0.000000</td>\n      <td>0.000000</td>\n      <td>0.000000</td>\n      <td>0.000000</td>\n      <td>0.000000</td>\n      <td>0.000000</td>\n      <td>0.000000</td>\n    </tr>\n  </tbody>\n</table>\n<p>45 rows × 77312 columns</p>\n</div>"
     },
     "metadata": {},
     "output_type": "execute_result",
     "execution_count": 13
    }
   ],
   "source": [
    "X = X.fillna(0)\n",
    "X"
   ]
  },
  {
   "cell_type": "code",
   "execution_count": 21,
   "metadata": {
    "pycharm": {
     "name": "#%%\n",
     "is_executing": false
    }
   },
   "outputs": [
    {
     "data": {
      "text/plain": "<Figure size 432x288 with 1 Axes>",
      "image/png": "[encoded data removed]"
     },
     "metadata": {
      "needs_background": "light"
     },
     "output_type": "display_data"
    }
   ],
   "source": [
    "x_t = X.T\n",
    "\n",
    "\n",
    "plt.plot(x_t[6])\n",
    "plt.ylim(0,0.02)\n",
    "plt.show()"
   ]
  },
  {
   "cell_type": "code",
   "execution_count": null,
   "outputs": [],
   "source": [
    "# 타겟 컬럼과 특징 컬럼 정의\n",
    "\n",
    "target_col = 'target'\n",
    "target = X[target_col]\n",
    "features = X[X.columns.difference(['target'])]\n"
   ],
   "metadata": {
    "collapsed": false,
    "pycharm": {
     "name": "#%%\n"
    }
   }
  },
  {
   "cell_type": "code",
   "execution_count": 39,
   "metadata": {
    "pycharm": {
     "is_executing": false,
     "name": "#%%\n"
    }
   },
   "outputs": [],
   "source": [
    "from sklearn.model_selection import train_test_split\n",
    "X_train, X_test, y_train, y_test = train_test_split(features, target, test_size=0.2)"
   ]
  },
  {
   "cell_type": "code",
   "execution_count": 40,
   "metadata": {
    "pycharm": {
     "is_executing": false,
     "name": "#%%\n"
    }
   },
   "outputs": [
    {
     "data": {
      "text/plain": [
       "SVC(C=1.0, cache_size=200, class_weight=None, coef0=0.0,\n",
       "    decision_function_shape='ovr', degree=3, gamma='auto_deprecated',\n",
       "    kernel='linear', max_iter=-1, probability=False, random_state=0,\n",
       "    shrinking=True, tol=0.001, verbose=False)"
      ]
     },
     "execution_count": 40,
     "metadata": {},
     "output_type": "execute_result"
    }
   ],
   "source": [
    "from sklearn.svm import SVC\n",
    "#SVM Model\n",
    "svm_linear = SVC(kernel='linear', random_state=0)\n",
    "svm_linear.fit(X_train, y_train)\n"
   ]
  },
  {
   "cell_type": "code",
   "execution_count": 42,
   "metadata": {
    "pycharm": {
     "is_executing": false,
     "name": "#%%\n"
    }
   },
   "outputs": [
    {
     "name": "stdout",
     "output_type": "stream",
     "text": [
      "테스트 세트 예측 :  [1 1 1 1 0 1 1 1 1]\n",
      "테스트 세트 정확도 :  0.7777777777777778\n",
      "              precision    recall  f1-score   support\n",
      "\n",
      "           0       1.00      0.33      0.50         3\n",
      "           1       0.75      1.00      0.86         6\n",
      "\n",
      "    accuracy                           0.78         9\n",
      "   macro avg       0.88      0.67      0.68         9\n",
      "weighted avg       0.83      0.78      0.74         9\n",
      "\n"
     ]
    }
   ],
   "source": [
    "#SVM 선형 평가\n",
    "print(\"테스트 세트 예측 : \", svm_linear.predict(X_test))\n",
    "print(\"테스트 세트 정확도 : \", svm_linear.score(X_test, y_test))\n",
    "\n",
    "y_pred = svm_linear.predict(X_test)\n",
    "print(classification_report(y_test, y_pred))\n"
   ]
  },
  {
   "cell_type": "code",
   "execution_count": 43,
   "metadata": {
    "pycharm": {
     "is_executing": false,
     "name": "#%%\n"
    }
   },
   "outputs": [
    {
     "name": "stderr",
     "output_type": "stream",
     "text": [
      "C:\\Users\\mws10\\Anaconda3\\lib\\site-packages\\sklearn\\svm\\base.py:193: FutureWarning: The default value of gamma will change from 'auto' to 'scale' in version 0.22 to account better for unscaled features. Set gamma explicitly to 'auto' or 'scale' to avoid this warning.\n",
      "  \"avoid this warning.\", FutureWarning)\n"
     ]
    },
    {
     "data": {
      "text/plain": [
       "SVC(C=1.0, cache_size=200, class_weight=None, coef0=0.0,\n",
       "    decision_function_shape='ovr', degree=3, gamma='auto_deprecated',\n",
       "    kernel='rbf', max_iter=-1, probability=False, random_state=0,\n",
       "    shrinking=True, tol=0.001, verbose=False)"
      ]
     },
     "execution_count": 43,
     "metadata": {},
     "output_type": "execute_result"
    }
   ],
   "source": [
    "from sklearn.svm import SVC\n",
    "#SVM Model\n",
    "svm_rbf = SVC(kernel='rbf', random_state=0)\n",
    "svm_rbf.fit(X_train, y_train)\n"
   ]
  },
  {
   "cell_type": "code",
   "execution_count": 44,
   "metadata": {
    "pycharm": {
     "is_executing": false,
     "name": "#%%\n"
    }
   },
   "outputs": [
    {
     "name": "stdout",
     "output_type": "stream",
     "text": [
      "테스트 세트 예측 :  [1 1 1 1 1 1 1 1 1]\n",
      "테스트 세트 정확도 :  0.6666666666666666\n",
      "              precision    recall  f1-score   support\n",
      "\n",
      "           0       0.00      0.00      0.00         3\n",
      "           1       0.67      1.00      0.80         6\n",
      "\n",
      "    accuracy                           0.67         9\n",
      "   macro avg       0.33      0.50      0.40         9\n",
      "weighted avg       0.44      0.67      0.53         9\n",
      "\n"
     ]
    },
    {
     "name": "stderr",
     "output_type": "stream",
     "text": [
      "C:\\Users\\mws10\\Anaconda3\\lib\\site-packages\\sklearn\\metrics\\classification.py:1437: UndefinedMetricWarning: Precision and F-score are ill-defined and being set to 0.0 in labels with no predicted samples.\n",
      "  'precision', 'predicted', average, warn_for)\n"
     ]
    }
   ],
   "source": [
    "#SVM 선형 평가\n",
    "print(\"테스트 세트 예측 : \", svm_rbf.predict(X_test))\n",
    "print(\"테스트 세트 정확도 : \", svm_rbf.score(X_test, y_test))\n",
    "\n",
    "y_pred = svm_rbf.predict(X_test)\n",
    "print(classification_report(y_test, y_pred))"
   ]
  },
  {
   "cell_type": "code",
   "execution_count": 50,
   "metadata": {
    "pycharm": {
     "is_executing": false,
     "name": "#%%\n"
    }
   },
   "outputs": [
    {
     "data": {
      "text/plain": [
       "array([array([ 1.90800000e-03+0.00000000e+00j, -3.47999914e-04-6.56490085e-05j,\n",
       "       -4.03775530e-05+2.08309585e-04j, ...,\n",
       "       -3.35264510e-04-1.25124121e-04j, -4.03775530e-05-2.08309585e-04j,\n",
       "       -3.47999914e-04+6.56490085e-05j]),\n",
       "       array([ 0.006986  +0.j        , -0.00330351+0.00533055j,\n",
       "       -0.00477856-0.00129966j, ...,  0.00136779-0.00034316j,\n",
       "       -0.00477856+0.00129966j, -0.00330351-0.00533055j]),\n",
       "       array([ 1.60000000e-03+0.00000000e+00j, -3.03536698e-05-5.38778943e-05j,\n",
       "        5.70356802e-05+1.64448746e-04j, ...,\n",
       "       -1.81983017e-04-6.14077262e-05j,  5.70356802e-05-1.64448746e-04j,\n",
       "       -3.03536698e-05+5.38778943e-05j]),\n",
       "       array([ 2.56000000e-03+0.j        , -3.38581229e-04-0.00021692j,\n",
       "        1.29294746e-05+0.00019567j, ..., -1.77079729e-04+0.00016408j,\n",
       "        1.29294746e-05-0.00019567j, -3.38581229e-04+0.00021692j]),\n",
       "       array([1.42500000e-03+0.00000000e+00j, 1.21781219e-04+9.16660436e-05j,\n",
       "       1.29545166e-04-5.30974541e-05j, ...,\n",
       "       4.71498194e-05+3.82251987e-05j, 1.29545166e-04+5.30974541e-05j,\n",
       "       1.21781219e-04-9.16660436e-05j]),\n",
       "       array([0.000603  +0.00000000e+00j, 0.00072809+9.91783970e-05j,\n",
       "       0.00048975-2.48734041e-04j, ..., 0.00049992-1.75795834e-05j,\n",
       "       0.00048975+2.48734041e-04j, 0.00072809-9.91783970e-05j]),\n",
       "       array([-2.90000000e-05+0.00000000e+00j, -4.30451983e-05-2.91163752e-05j,\n",
       "       -1.45580656e-04-5.16965973e-05j, ...,\n",
       "       -2.81869570e-05+3.36095829e-05j, -1.45580656e-04+5.16965973e-05j,\n",
       "       -4.30451983e-05+2.91163752e-05j]),\n",
       "       array([ 0.000291  +0.j        ,  0.00037908-0.00093438j,\n",
       "       -0.001179  +0.00099128j, ..., -0.00052752+0.0011456j ,\n",
       "       -0.001179  -0.00099128j,  0.00037908+0.00093438j]),\n",
       "       array([-0.000147  +0.00000000e+00j, -0.00020794-6.19987383e-05j,\n",
       "       -0.00024131+4.12302754e-05j, ..., -0.00022297+8.37045671e-05j,\n",
       "       -0.00024131-4.12302754e-05j, -0.00020794+6.19987383e-05j]),\n",
       "       array([0.004266  +0.00000000e+00j, 0.00143388+9.47173795e-05j,\n",
       "       0.00158025+1.73651172e-04j, ..., 0.00124408-1.98416745e-05j,\n",
       "       0.00158025-1.73651172e-04j, 0.00143388-9.47173795e-05j]),\n",
       "       array([ 0.001113  +0.j        , -0.0004328 +0.0012618j ,\n",
       "        0.00138907+0.00080333j, ...,  0.00086861+0.00054317j,\n",
       "        0.00138907-0.00080333j, -0.0004328 -0.0012618j ]),\n",
       "       array([0.002184  +0.00000000e+00j, 0.00058179+1.29853126e-04j,\n",
       "       0.00047478+1.67940213e-04j, ..., 0.00032144-8.94213106e-05j,\n",
       "       0.00047478-1.67940213e-04j, 0.00058179-1.29853126e-04j]),\n",
       "       array([0.003088  +0.00000000e+00j, 0.00169161-4.77320242e-05j,\n",
       "       0.00180679+1.31945767e-04j, ..., 0.0018948 -2.04572066e-04j,\n",
       "       0.00180679-1.31945767e-04j, 0.00169161+4.77320242e-05j]),\n",
       "       array([ 0.001219  +0.00000000e+00j, -0.00125081+1.03590538e-04j,\n",
       "       -0.00128636+1.08101229e-04j, ..., -0.00132747-2.82961725e-05j,\n",
       "       -0.00128636-1.08101229e-04j, -0.00125081-1.03590538e-04j]),\n",
       "       array([ 0.001388  +0.00000000e+00j, -0.00099842+1.16139916e-04j,\n",
       "       -0.00109355-9.63187351e-05j, ..., -0.00131933-2.26328343e-04j,\n",
       "       -0.00109355+9.63187351e-05j, -0.00099842-1.16139916e-04j]),\n",
       "       array([-0.000356  +0.00000000e+00j, -0.0019185 +2.91620539e-04j,\n",
       "       -0.00202974+7.49100260e-05j, ..., -0.00189983+6.51788417e-04j,\n",
       "       -0.00202974-7.49100260e-05j, -0.0019185 -2.91620539e-04j]),\n",
       "       array([ 0.002872  +0.j        , -0.00036395-0.00079047j,\n",
       "       -0.00160924+0.0002888j , ..., -0.00071861-0.00044515j,\n",
       "       -0.00160924-0.0002888j , -0.00036395+0.00079047j]),\n",
       "       array([ 4.99000000e-04+0.00000000e+00j,  2.37404558e-04-1.79866204e-04j,\n",
       "        1.23512573e-05+8.11275091e-06j, ...,\n",
       "       -2.29205511e-04+4.39384562e-04j,  1.23512573e-05-8.11275091e-06j,\n",
       "        2.37404558e-04+1.79866204e-04j]),\n",
       "       array([ 1.37000000e-04+0.00000000e+00j, -9.64883583e-06+1.94376614e-05j,\n",
       "        2.60684437e-05+2.15174415e-05j, ...,\n",
       "       -7.30105942e-05+4.02121819e-05j,  2.60684437e-05-2.15174415e-05j,\n",
       "       -9.64883583e-06-1.94376614e-05j]),\n",
       "       array([ 0.00137   +0.00000000e+00j, -0.00025677-3.23720093e-04j,\n",
       "       -0.00036809+8.17086851e-04j, ..., -0.00058183-3.40341889e-05j,\n",
       "       -0.00036809-8.17086851e-04j, -0.00025677+3.23720093e-04j]),\n",
       "       array([-0.000773  +0.00000000e+00j, -0.00295823-9.14921927e-05j,\n",
       "       -0.0030256 -7.14416326e-05j, ..., -0.00309949+1.65247810e-04j,\n",
       "       -0.0030256 +7.14416326e-05j, -0.00295823+9.14921927e-05j]),\n",
       "       array([0.003709  +0.00000000e+00j, 0.00202566+3.98324145e-05j,\n",
       "       0.00199142+2.57099430e-04j, ..., 0.00256405+2.99653162e-04j,\n",
       "       0.00199142-2.57099430e-04j, 0.00202566-3.98324145e-05j]),\n",
       "       array([0.001139  +0.j        , 0.00082801+0.00024698j,\n",
       "       0.00054671+0.0001566j , ..., 0.00073589+0.00012041j,\n",
       "       0.00054671-0.0001566j , 0.00082801-0.00024698j]),\n",
       "       array([ 0.000704  +0.00000000e+00j,  0.00018323+8.43296094e-05j,\n",
       "        0.00025031-3.23151261e-04j, ..., -0.00064257-3.15000572e-04j,\n",
       "        0.00025031+3.23151261e-04j,  0.00018323-8.43296094e-05j]),\n",
       "       array([ 0.00252   +0.j        ,  0.00019029-0.00019352j,\n",
       "       -0.00024177-0.00035858j, ..., -0.00045609+0.00023435j,\n",
       "       -0.00024177+0.00035858j,  0.00019029+0.00019352j]),\n",
       "       array([ 1.11600000e-03+0.j        ,  9.40940909e-05-0.00051587j,\n",
       "       -1.33800985e-04-0.00041866j, ..., -5.85670322e-04+0.00048422j,\n",
       "       -1.33800985e-04+0.00041866j,  9.40940909e-05+0.00051587j]),\n",
       "       array([0.007143  +0.00000000e+00j, 0.00285859+2.33119361e-04j,\n",
       "       0.00156089+3.71879724e-05j, ..., 0.00159313+2.62002427e-04j,\n",
       "       0.00156089-3.71879724e-05j, 0.00285859-2.33119361e-04j]),\n",
       "       array([ 1.92800000e-03+0.j        ,  4.20638670e-05+0.00073397j,\n",
       "       -9.53389385e-04+0.00025726j, ..., -1.20702540e-03-0.0010471j ,\n",
       "       -9.53389385e-04-0.00025726j,  4.20638670e-05-0.00073397j]),\n",
       "       array([ 3.79470760e-19+0.00000000e+00j, -1.15452571e-04+5.29255362e-04j,\n",
       "       -3.37465348e-04+8.39744175e-05j, ...,\n",
       "       -3.98196090e-04+6.66175002e-06j, -3.37465348e-04-8.39744175e-05j,\n",
       "       -1.15452571e-04-5.29255362e-04j]),\n",
       "       array([ 2.23300000e-03+0.00000000e+00j,  6.97762401e-05-7.43305693e-05j,\n",
       "       -2.71470893e-05-2.08145250e-05j, ...,\n",
       "        9.43940535e-05+1.43978480e-06j, -2.71470893e-05+2.08145250e-05j,\n",
       "        6.97762401e-05+7.43305693e-05j])], dtype=object)"
      ]
     },
     "execution_count": 50,
     "metadata": {},
     "output_type": "execute_result"
    }
   ],
   "source": []
  },
  {
   "cell_type": "code",
   "execution_count": 17,
   "metadata": {
    "pycharm": {
     "name": "#%%\n",
     "is_executing": false
    }
   },
   "outputs": [
    {
     "data": {
      "text/plain": "<Info | 16 non-empty fields\n    bads : list | 0 items\n    ch_names : list | Fp1, F3, C3, P3, O1, F7, T7, P7, Fz, ...\n    chs : list | 20 items (EEG: 19, STIM: 1)\n    comps : list | 0 items\n    custom_ref_applied : bool | False\n    dev_head_t : Transform | 3 items\n    events : list | 0 items\n    highpass : float | 0.0 Hz\n    hpi_meas : list | 0 items\n    hpi_results : list | 0 items\n    lowpass : float | 128.0 Hz\n    meas_date : tuple | 2015-07-13 14:08:56 GMT\n    nchan : int | 20\n    proc_history : list | 0 items\n    projs : list | 0 items\n    sfreq : float | 256.0 Hz\n    acq_pars : NoneType\n    acq_stim : NoneType\n    ctf_head_t : NoneType\n    description : NoneType\n    dev_ctf_t : NoneType\n    device_info : NoneType\n    dig : NoneType\n    experimenter : NoneType\n    file_id : NoneType\n    gantry_angle : NoneType\n    helium_info : NoneType\n    hpi_subsystem : NoneType\n    kit_system_id : NoneType\n    line_freq : NoneType\n    meas_id : NoneType\n    proj_id : NoneType\n    proj_name : NoneType\n    subject_info : NoneType\n    utc_offset : NoneType\n    xplotter_layout : NoneType\n>"
     },
     "metadata": {},
     "output_type": "execute_result",
     "execution_count": 17
    }
   ],
   "source": [
    "a = MDD_dataset_list[0]\n",
    "a.info"
   ]
  },
  {
   "cell_type": "code",
   "execution_count": null,
   "outputs": [],
   "source": [
    "\n"
   ],
   "metadata": {
    "collapsed": false,
    "pycharm": {
     "name": "#%%\n"
    }
   }
  }
 ],
 "metadata": {
  "kernelspec": {
   "display_name": "Python 3",
   "language": "python",
   "name": "python3"
  },
  "language_info": {
   "codemirror_mode": {
    "name": "ipython",
    "version": 3
   },
   "file_extension": ".py",
   "mimetype": "text/x-python",
   "name": "python",
   "nbconvert_exporter": "python",
   "pygments_lexer": "ipython3",
   "version": "3.7.4"
  },
  "pycharm": {
   "stem_cell": {
    "cell_type": "raw",
    "source": [],
    "metadata": {
     "collapsed": false
    }
   }
  }
 },
 "nbformat": 4,
 "nbformat_minor": 1
}