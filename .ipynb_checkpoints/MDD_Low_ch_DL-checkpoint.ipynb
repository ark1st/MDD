{
 "cells": [
  {
   "cell_type": "code",
   "execution_count": 1,
   "metadata": {},
   "outputs": [
    {
     "name": "stderr",
     "output_type": "stream",
     "text": [
      "\n",
      "Bad key \"text.kerning_factor\" on line 4 in\n",
      "C:\\Users\\GC\\Anaconda3\\envs\\ark\\lib\\site-packages\\matplotlib\\mpl-data\\stylelib\\_classic_test_patch.mplstyle.\n",
      "You probably need to get an updated matplotlibrc file from\n",
      "https://github.com/matplotlib/matplotlib/blob/v3.1.3/matplotlibrc.template\n",
      "or from the matplotlib source distribution\n"
     ]
    }
   ],
   "source": [
    "import pandas as pd\n",
    "import numpy as np\n",
    "import matplotlib.pyplot as plt\n",
    "import matplotlib.dates as md\n",
    "import os\n",
    "import mne\n",
    "import random\n",
    "from sklearn.metrics import classification_report\n",
    "from numpy import zeros, newaxis\n",
    "from scipy import signal\n",
    "from scipy import fftpack"
   ]
  },
  {
   "cell_type": "code",
   "execution_count": 2,
   "metadata": {},
   "outputs": [],
   "source": [
    "MDD_dataset_Filenames = os.listdir('./full_dataset/MDD/EC/')\n",
    "H_dataset_Filenames = os.listdir('./full_dataset/H/EC/')\n",
    "\n",
    "MDD_dataset_list = []\n",
    "H_dataset_list = []\n",
    "\n",
    "for filename in MDD_dataset_Filenames:\n",
    "    data = mne.io.read_raw_edf('./full_dataset/MDD/EC/' + str(filename), verbose=0)\n",
    "    MDD_dataset_list.append(data)  \n",
    "    \n",
    "for filename in H_dataset_Filenames:\n",
    "    data = mne.io.read_raw_edf('./full_dataset/H/EC/' + str(filename), verbose=0)\n",
    "    H_dataset_list.append(data)  \n",
    "MDD_dataset_Filenames=MDD_dataset_Filenames[0:29]\n",
    "H_dataset_Filenames=H_dataset_Filenames[0:29]"
   ]
  },
  {
   "cell_type": "code",
   "execution_count": 14,
   "metadata": {},
   "outputs": [
    {
     "data": {
      "text/html": [
       "<div>\n",
       "<style scoped>\n",
       "    .dataframe tbody tr th:only-of-type {\n",
       "        vertical-align: middle;\n",
       "    }\n",
       "\n",
       "    .dataframe tbody tr th {\n",
       "        vertical-align: top;\n",
       "    }\n",
       "\n",
       "    .dataframe thead th {\n",
       "        text-align: right;\n",
       "    }\n",
       "</style>\n",
       "<table border=\"1\" class=\"dataframe\">\n",
       "  <thead>\n",
       "    <tr style=\"text-align: right;\">\n",
       "      <th></th>\n",
       "      <th>EEG Fp1-LE</th>\n",
       "      <th>EEG Fp2-LE</th>\n",
       "      <th>EEG F7-LE</th>\n",
       "      <th>EEG F8-LE</th>\n",
       "    </tr>\n",
       "  </thead>\n",
       "  <tbody>\n",
       "    <tr>\n",
       "      <th>0.000000</th>\n",
       "      <td>3.850294e-06</td>\n",
       "      <td>4.550347e-06</td>\n",
       "      <td>-7.450568e-06</td>\n",
       "      <td>5.450416e-06</td>\n",
       "    </tr>\n",
       "    <tr>\n",
       "      <th>0.003906</th>\n",
       "      <td>2.250172e-06</td>\n",
       "      <td>2.650202e-06</td>\n",
       "      <td>-7.750591e-06</td>\n",
       "      <td>8.550652e-06</td>\n",
       "    </tr>\n",
       "    <tr>\n",
       "      <th>0.007812</th>\n",
       "      <td>-5.000381e-08</td>\n",
       "      <td>5.000381e-08</td>\n",
       "      <td>-5.250401e-06</td>\n",
       "      <td>8.950683e-06</td>\n",
       "    </tr>\n",
       "    <tr>\n",
       "      <th>0.011719</th>\n",
       "      <td>-2.350179e-06</td>\n",
       "      <td>-2.250172e-06</td>\n",
       "      <td>-2.050156e-06</td>\n",
       "      <td>6.750515e-06</td>\n",
       "    </tr>\n",
       "    <tr>\n",
       "      <th>0.015625</th>\n",
       "      <td>-3.650278e-06</td>\n",
       "      <td>-3.450263e-06</td>\n",
       "      <td>-1.500114e-07</td>\n",
       "      <td>3.250248e-06</td>\n",
       "    </tr>\n",
       "    <tr>\n",
       "      <th>...</th>\n",
       "      <td>...</td>\n",
       "      <td>...</td>\n",
       "      <td>...</td>\n",
       "      <td>...</td>\n",
       "    </tr>\n",
       "    <tr>\n",
       "      <th>119.980469</th>\n",
       "      <td>-1.350103e-06</td>\n",
       "      <td>1.850141e-06</td>\n",
       "      <td>2.650202e-06</td>\n",
       "      <td>6.350484e-06</td>\n",
       "    </tr>\n",
       "    <tr>\n",
       "      <th>119.984375</th>\n",
       "      <td>-1.050080e-06</td>\n",
       "      <td>7.500572e-07</td>\n",
       "      <td>2.450187e-06</td>\n",
       "      <td>4.750362e-06</td>\n",
       "    </tr>\n",
       "    <tr>\n",
       "      <th>119.988281</th>\n",
       "      <td>4.500343e-07</td>\n",
       "      <td>5.000381e-08</td>\n",
       "      <td>2.450187e-06</td>\n",
       "      <td>2.350179e-06</td>\n",
       "    </tr>\n",
       "    <tr>\n",
       "      <th>119.992188</th>\n",
       "      <td>2.050156e-06</td>\n",
       "      <td>-2.500191e-07</td>\n",
       "      <td>2.550195e-06</td>\n",
       "      <td>4.500343e-07</td>\n",
       "    </tr>\n",
       "    <tr>\n",
       "      <th>119.996094</th>\n",
       "      <td>2.850217e-06</td>\n",
       "      <td>5.000381e-08</td>\n",
       "      <td>2.650202e-06</td>\n",
       "      <td>-1.500114e-07</td>\n",
       "    </tr>\n",
       "  </tbody>\n",
       "</table>\n",
       "<p>30720 rows × 4 columns</p>\n",
       "</div>"
      ],
      "text/plain": [
       "              EEG Fp1-LE    EEG Fp2-LE     EEG F7-LE     EEG F8-LE\n",
       "0.000000    3.850294e-06  4.550347e-06 -7.450568e-06  5.450416e-06\n",
       "0.003906    2.250172e-06  2.650202e-06 -7.750591e-06  8.550652e-06\n",
       "0.007812   -5.000381e-08  5.000381e-08 -5.250401e-06  8.950683e-06\n",
       "0.011719   -2.350179e-06 -2.250172e-06 -2.050156e-06  6.750515e-06\n",
       "0.015625   -3.650278e-06 -3.450263e-06 -1.500114e-07  3.250248e-06\n",
       "...                  ...           ...           ...           ...\n",
       "119.980469 -1.350103e-06  1.850141e-06  2.650202e-06  6.350484e-06\n",
       "119.984375 -1.050080e-06  7.500572e-07  2.450187e-06  4.750362e-06\n",
       "119.988281  4.500343e-07  5.000381e-08  2.450187e-06  2.350179e-06\n",
       "119.992188  2.050156e-06 -2.500191e-07  2.550195e-06  4.500343e-07\n",
       "119.996094  2.850217e-06  5.000381e-08  2.650202e-06 -1.500114e-07\n",
       "\n",
       "[30720 rows x 4 columns]"
      ]
     },
     "execution_count": 14,
     "metadata": {},
     "output_type": "execute_result"
    }
   ],
   "source": [
    "MDD_dataframe = [] #MDD 환자의 데이터프레임 리스트\n",
    "H_dataframe = [] #건강한 사람의 데이터프레임 리스트\n",
    "y = []\n",
    "eeg_columns = ['EEG Fp1-LE', 'EEG Fp2-LE' ,'EEG F7-LE', 'EEG F8-LE']\n",
    "for raw in MDD_dataset_list:\n",
    "    raw_data = raw.get_data(return_times=True)\n",
    "    channels = raw.ch_names\n",
    "    T_data = np.transpose(raw_data[0])\n",
    "    time = np.transpose(raw_data[1])\n",
    "    temp = pd.DataFrame(T_data, columns = channels, index = time)\n",
    "    temp = temp[eeg_columns]\n",
    "    MDD_dataframe.append(temp.iloc[:30720]) #256 * 120 = 2min\n",
    "    y.append(1)\n",
    "    \n",
    "for raw in H_dataset_list:\n",
    "    raw_data = raw.get_data(return_times=True)\n",
    "    channels = raw.ch_names\n",
    "    T_data = np.transpose(raw_data[0])\n",
    "    time = np.transpose(raw_data[1])\n",
    "    temp = pd.DataFrame(temp)\n",
    "    temp = temp[eeg_columns]\n",
    "    H_dataframe.append(temp.iloc[:30720]) #256 * 120 = 2min\n",
    "    y.append(0)\n",
    "y = np.asarray(y)    \n",
    "MDD_dataframe[0]"
   ]
  },
  {
   "cell_type": "code",
   "execution_count": 15,
   "metadata": {},
   "outputs": [],
   "source": [
    "#MDD[26]환자 열 개수 조정\n",
    "MDD_dataframe[26] = MDD_dataframe[26][MDD_dataframe[0].columns]\n"
   ]
  },
  {
   "cell_type": "code",
   "execution_count": 16,
   "metadata": {},
   "outputs": [],
   "source": [
    "low_pass_filter = signal.firwin(101, cutoff=32, fs=256, pass_zero='lowpass')\n",
    "high_pass_filter = signal.firwin(101, cutoff=0.5, fs=256, pass_zero='highpass')"
   ]
  },
  {
   "cell_type": "code",
   "execution_count": 17,
   "metadata": {},
   "outputs": [],
   "source": [
    "for j in range(0, len(MDD_dataframe)):\n",
    "    col = list(MDD_dataframe[j].columns)\n",
    "    for i in range(0, len(col)):\n",
    "        clear_eeg = signal.lfilter(low_pass_filter, [1.0], MDD_dataframe[j][col[i]])\n",
    "        clear_eeg = signal.lfilter(high_pass_filter, [1.0], clear_eeg)\n",
    "        MDD_dataframe[j][col[i]] = clear_eeg"
   ]
  },
  {
   "cell_type": "code",
   "execution_count": 18,
   "metadata": {},
   "outputs": [
    {
     "name": "stderr",
     "output_type": "stream",
     "text": [
      "C:\\Users\\GC\\Anaconda3\\envs\\ark\\lib\\site-packages\\ipykernel_launcher.py:6: SettingWithCopyWarning: \n",
      "A value is trying to be set on a copy of a slice from a DataFrame.\n",
      "Try using .loc[row_indexer,col_indexer] = value instead\n",
      "\n",
      "See the caveats in the documentation: https://pandas.pydata.org/pandas-docs/stable/user_guide/indexing.html#returning-a-view-versus-a-copy\n",
      "  \n"
     ]
    }
   ],
   "source": [
    "for j in range(0, len(H_dataframe)):\n",
    "    col = list(H_dataframe[j].columns)\n",
    "    for i in range(0, len(col)):\n",
    "        clear_eeg = signal.lfilter(low_pass_filter, [1.0], H_dataframe[j][col[i]])\n",
    "        clear_eeg = signal.lfilter(high_pass_filter, [1.0], clear_eeg)\n",
    "        H_dataframe[j][col[i]] = clear_eeg"
   ]
  },
  {
   "cell_type": "code",
   "execution_count": 19,
   "metadata": {},
   "outputs": [],
   "source": [
    "all_dataframe = MDD_dataframe + H_dataframe\n"
   ]
  },
  {
   "cell_type": "code",
   "execution_count": 20,
   "metadata": {},
   "outputs": [],
   "source": [
    "delta_pass_filter =  signal.firwin(101, cutoff=[0.5,4], fs=256, pass_zero='bandpass')\n",
    "theta_pass_filter =  signal.firwin(101, cutoff=[4,8], fs=256, pass_zero='bandpass')\n",
    "alpha_pass_filter =  signal.firwin(101, cutoff=[8,13], fs=256, pass_zero='bandpass')\n",
    "beta_pass_filter =  signal.firwin(101, cutoff=[13,30], fs=256, pass_zero='bandpass')\n",
    "from sklearn.preprocessing import MinMaxScaler\n",
    "from sklearn.preprocessing import Normalizer\n",
    "def band_power(channel):\n",
    "    df = pd.DataFrame()\n",
    "    df['delta'] = signal.lfilter(delta_pass_filter, [1.0], channel)\n",
    "    df['theta'] = signal.lfilter(theta_pass_filter, [1.0], channel)\n",
    "    df['alpha'] = signal.lfilter(alpha_pass_filter, [1.0], channel)\n",
    "    df['beta'] = signal.lfilter(beta_pass_filter, [1.0], channel)\n",
    "    \n",
    "    return df\n"
   ]
  },
  {
   "cell_type": "code",
   "execution_count": 26,
   "metadata": {},
   "outputs": [],
   "source": [
    "def eeg_band_power_seperate(input_dataframe, train):\n",
    "    scaler = Normalizer()\n",
    "    X = np.zeros((1,4,4,30720))\n",
    "    for dataframe in input_dataframe:\n",
    "        columns = list(dataframe.columns)\n",
    "        band_power_list = np.zeros((1,4,30720))\n",
    "        #band_power_list = band_power_list[newaxis,:,:]\n",
    "        for i in range(len(columns)):\n",
    "            ch = band_power(dataframe[dataframe.columns[i]])\n",
    "            ch = scaler.fit_transform(ch) #Nor\n",
    "            ch = np.asarray(ch)\n",
    "            band_power_list = np.vstack([band_power_list, ch.T[newaxis,:,:]])\n",
    "        band_power_list = band_power_list[1:]\n",
    "        X = np.vstack([X, band_power_list[newaxis,:,:,:]])\n",
    "        #print(X.shape, end=\"/\")\n",
    "    return X"
   ]
  },
  {
   "cell_type": "code",
   "execution_count": 22,
   "metadata": {},
   "outputs": [],
   "source": [
    "from sklearn.metrics import roc_curve\n",
    "from keras import models\n",
    "from keras import layers\n",
    "from keras import backend as K\n",
    "\n",
    "def recall_m(y_true, y_pred):\n",
    "    true_positives = K.sum(K.round(K.clip(y_true * y_pred, 0, 1)))\n",
    "    possible_positives = K.sum(K.round(K.clip(y_true, 0, 1)))\n",
    "    recall = true_positives / (possible_positives + K.epsilon())\n",
    "    return recall\n",
    "\n",
    "def precision_m(y_true, y_pred):\n",
    "    true_positives = K.sum(K.round(K.clip(y_true * y_pred, 0, 1)))\n",
    "    predicted_positives = K.sum(K.round(K.clip(y_pred, 0, 1)))\n",
    "    precision = true_positives / (predicted_positives + K.epsilon())\n",
    "    return precision\n",
    "\n",
    "def f1_m(y_true, y_pred):\n",
    "    precision = precision_m(y_true, y_pred)\n",
    "    recall = recall_m(y_true, y_pred)\n",
    "    return 2*((precision*recall)/(precision+recall+K.epsilon()))"
   ]
  },
  {
   "cell_type": "code",
   "execution_count": 23,
   "metadata": {},
   "outputs": [],
   "source": [
    "def index_to_list(list, index):\n",
    "    return [list[i] for i in index]"
   ]
  },
  {
   "cell_type": "code",
   "execution_count": 24,
   "metadata": {},
   "outputs": [],
   "source": [
    "from sklearn.model_selection import train_test_split\n",
    "X_train, X_test, y_train, y_test = train_test_split(all_dataframe, y, test_size=0.3, random_state = 7)"
   ]
  },
  {
   "cell_type": "code",
   "execution_count": 27,
   "metadata": {},
   "outputs": [],
   "source": [
    "X_train = eeg_band_power_seperate(X_train, 1)\n",
    "X_test = eeg_band_power_seperate(X_test, 0)"
   ]
  },
  {
   "cell_type": "code",
   "execution_count": 28,
   "metadata": {},
   "outputs": [
    {
     "data": {
      "text/plain": [
       "array([0, 1, 0, 1, 1, 0, 0, 1, 1, 0, 0, 0, 1, 1, 1, 1, 0, 1])"
      ]
     },
     "execution_count": 28,
     "metadata": {},
     "output_type": "execute_result"
    }
   ],
   "source": [
    "X_train = X_train[1:]\n",
    "X_test = X_test[1:]\n",
    "X_train.shape\n",
    "y_test"
   ]
  },
  {
   "cell_type": "code",
   "execution_count": 29,
   "metadata": {},
   "outputs": [],
   "source": [
    "SEED = 123456\n",
    "import os\n",
    "import random as rn\n",
    "import numpy as np\n",
    "\n",
    "os.environ['PYTHONHASHSEED']=str(SEED)\n",
    "np.random.seed(SEED)\n",
    "rn.seed(SEED)"
   ]
  },
  {
   "cell_type": "code",
   "execution_count": 58,
   "metadata": {},
   "outputs": [],
   "source": []
  },
  {
   "cell_type": "code",
   "execution_count": null,
   "metadata": {},
   "outputs": [],
   "source": []
  }
 ],
 "metadata": {
  "kernelspec": {
   "display_name": "Python 3",
   "language": "python",
   "name": "python3"
  },
  "language_info": {
   "codemirror_mode": {
    "name": "ipython",
    "version": 3
   },
   "file_extension": ".py",
   "mimetype": "text/x-python",
   "name": "python",
   "nbconvert_exporter": "python",
   "pygments_lexer": "ipython3",
   "version": "3.7.3"
  }
 },
 "nbformat": 4,
 "nbformat_minor": 4
}
