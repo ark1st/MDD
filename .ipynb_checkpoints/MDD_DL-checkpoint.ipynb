{
 "cells": [
  {
   "cell_type": "code",
   "execution_count": null,
   "metadata": {
    "collapsed": true,
    "jupyter": {
     "outputs_hidden": true
    }
   },
   "outputs": [],
   "source": []
  },
  {
   "cell_type": "code",
   "execution_count": 25,
   "metadata": {
    "collapsed": false,
    "jupyter": {
     "outputs_hidden": false
    },
    "pycharm": {
     "is_executing": false,
     "name": "#%%\n"
    }
   },
   "outputs": [],
   "source": [
    "import pandas as pd\n",
    "import numpy as np\n",
    "import matplotlib.pyplot as plt\n",
    "import matplotlib.dates as md\n",
    "import os\n",
    "import mne\n",
    "import random\n",
    "from sklearn.metrics import classification_report\n",
    "from numpy import zeros, newaxis\n",
    "from scipy import signal\n",
    "from scipy import fftpack"
   ]
  },
  {
   "cell_type": "code",
   "execution_count": 104,
   "metadata": {
    "collapsed": false,
    "jupyter": {
     "outputs_hidden": false
    },
    "pycharm": {
     "is_executing": false,
     "name": "#%%\n"
    }
   },
   "outputs": [
    {
     "name": "stdout",
     "output_type": "stream",
     "text": [
      "Extracting EDF parameters from C:\\ARK\\python\\MDD\\full_dataset\\MDD\\EC\\MDD S1 EC.edf...\n",
      "EDF file detected\n",
      "Setting channel info structure...\n",
      "Creating raw.info structure...\n",
      "Extracting EDF parameters from C:\\ARK\\python\\MDD\\full_dataset\\MDD\\EC\\MDD S10 EC.edf...\n",
      "EDF file detected\n",
      "Setting channel info structure...\n",
      "Creating raw.info structure...\n",
      "Extracting EDF parameters from C:\\ARK\\python\\MDD\\full_dataset\\MDD\\EC\\MDD S11  EC.edf...\n",
      "EDF file detected\n",
      "Setting channel info structure...\n",
      "Creating raw.info structure...\n",
      "Extracting EDF parameters from C:\\ARK\\python\\MDD\\full_dataset\\MDD\\EC\\MDD S13 EC.edf...\n",
      "EDF file detected\n",
      "Setting channel info structure...\n",
      "Creating raw.info structure...\n",
      "Extracting EDF parameters from C:\\ARK\\python\\MDD\\full_dataset\\MDD\\EC\\MDD S14 EC.edf...\n",
      "EDF file detected\n",
      "Setting channel info structure...\n",
      "Creating raw.info structure...\n",
      "Extracting EDF parameters from C:\\ARK\\python\\MDD\\full_dataset\\MDD\\EC\\MDD S15 EC.edf...\n",
      "EDF file detected\n",
      "Setting channel info structure...\n",
      "Creating raw.info structure...\n",
      "Extracting EDF parameters from C:\\ARK\\python\\MDD\\full_dataset\\MDD\\EC\\MDD S17 EC.edf...\n",
      "EDF file detected\n",
      "Setting channel info structure...\n",
      "Creating raw.info structure...\n",
      "Extracting EDF parameters from C:\\ARK\\python\\MDD\\full_dataset\\MDD\\EC\\MDD S18 EC.edf...\n",
      "EDF file detected\n",
      "Setting channel info structure...\n",
      "Creating raw.info structure...\n",
      "Extracting EDF parameters from C:\\ARK\\python\\MDD\\full_dataset\\MDD\\EC\\MDD S19 EC.edf...\n",
      "EDF file detected\n",
      "Setting channel info structure...\n",
      "Creating raw.info structure...\n",
      "Extracting EDF parameters from C:\\ARK\\python\\MDD\\full_dataset\\MDD\\EC\\MDD S2  EC.edf...\n",
      "EDF file detected\n",
      "Setting channel info structure...\n",
      "Creating raw.info structure...\n",
      "Extracting EDF parameters from C:\\ARK\\python\\MDD\\full_dataset\\MDD\\EC\\MDD S20 EC.edf...\n",
      "EDF file detected\n",
      "Setting channel info structure...\n",
      "Creating raw.info structure...\n",
      "Extracting EDF parameters from C:\\ARK\\python\\MDD\\full_dataset\\MDD\\EC\\MDD S21 EC.edf...\n",
      "EDF file detected\n",
      "Setting channel info structure...\n",
      "Creating raw.info structure...\n",
      "Extracting EDF parameters from C:\\ARK\\python\\MDD\\full_dataset\\MDD\\EC\\MDD S22 EC.edf...\n",
      "EDF file detected\n",
      "Setting channel info structure...\n",
      "Creating raw.info structure...\n",
      "Extracting EDF parameters from C:\\ARK\\python\\MDD\\full_dataset\\MDD\\EC\\MDD S23 EC.edf...\n",
      "EDF file detected\n",
      "Setting channel info structure...\n",
      "Creating raw.info structure...\n",
      "Extracting EDF parameters from C:\\ARK\\python\\MDD\\full_dataset\\MDD\\EC\\MDD S24  EC.edf...\n",
      "EDF file detected\n",
      "Setting channel info structure...\n",
      "Creating raw.info structure...\n",
      "Extracting EDF parameters from C:\\ARK\\python\\MDD\\full_dataset\\MDD\\EC\\MDD S25 EC.edf...\n",
      "EDF file detected\n",
      "Setting channel info structure...\n",
      "Creating raw.info structure...\n",
      "Extracting EDF parameters from C:\\ARK\\python\\MDD\\full_dataset\\MDD\\EC\\MDD S26 EC.edf...\n",
      "EDF file detected\n",
      "Setting channel info structure...\n",
      "Creating raw.info structure...\n",
      "Extracting EDF parameters from C:\\ARK\\python\\MDD\\full_dataset\\MDD\\EC\\MDD S27 EC.edf...\n",
      "EDF file detected\n",
      "Setting channel info structure...\n",
      "Creating raw.info structure...\n",
      "Extracting EDF parameters from C:\\ARK\\python\\MDD\\full_dataset\\MDD\\EC\\MDD S28 EC.edf...\n",
      "EDF file detected\n",
      "Setting channel info structure...\n",
      "Creating raw.info structure...\n",
      "Extracting EDF parameters from C:\\ARK\\python\\MDD\\full_dataset\\MDD\\EC\\MDD S29 EC.edf...\n",
      "EDF file detected\n",
      "Setting channel info structure...\n",
      "Creating raw.info structure...\n",
      "Extracting EDF parameters from C:\\ARK\\python\\MDD\\full_dataset\\MDD\\EC\\MDD S3 EC.edf...\n",
      "EDF file detected\n",
      "Setting channel info structure...\n",
      "Creating raw.info structure...\n",
      "Extracting EDF parameters from C:\\ARK\\python\\MDD\\full_dataset\\MDD\\EC\\MDD S30 EC.edf...\n",
      "EDF file detected\n",
      "Setting channel info structure...\n",
      "Creating raw.info structure...\n",
      "Extracting EDF parameters from C:\\ARK\\python\\MDD\\full_dataset\\MDD\\EC\\MDD S31 EC.edf...\n",
      "EDF file detected\n",
      "Setting channel info structure...\n",
      "Creating raw.info structure...\n",
      "Extracting EDF parameters from C:\\ARK\\python\\MDD\\full_dataset\\MDD\\EC\\MDD S32 EC.edf...\n",
      "EDF file detected\n",
      "Setting channel info structure...\n",
      "Creating raw.info structure...\n",
      "Extracting EDF parameters from C:\\ARK\\python\\MDD\\full_dataset\\MDD\\EC\\MDD S33 EC.edf...\n",
      "EDF file detected\n",
      "Setting channel info structure...\n",
      "Creating raw.info structure...\n",
      "Extracting EDF parameters from C:\\ARK\\python\\MDD\\full_dataset\\MDD\\EC\\MDD S34 EC.edf...\n",
      "EDF file detected\n",
      "Setting channel info structure...\n",
      "Creating raw.info structure...\n",
      "Extracting EDF parameters from C:\\ARK\\python\\MDD\\full_dataset\\MDD\\EC\\MDD S5 EC.edf...\n",
      "EDF file detected\n",
      "Setting channel info structure...\n",
      "Creating raw.info structure...\n",
      "Extracting EDF parameters from C:\\ARK\\python\\MDD\\full_dataset\\MDD\\EC\\MDD S6 EC.edf...\n",
      "EDF file detected\n",
      "Setting channel info structure...\n",
      "Creating raw.info structure...\n",
      "Extracting EDF parameters from C:\\ARK\\python\\MDD\\full_dataset\\MDD\\EC\\MDD S7  EC.edf...\n",
      "EDF file detected\n",
      "Setting channel info structure...\n",
      "Creating raw.info structure...\n",
      "Extracting EDF parameters from C:\\ARK\\python\\MDD\\full_dataset\\MDD\\EC\\MDD S9 EC.edf...\n",
      "EDF file detected\n",
      "Setting channel info structure...\n",
      "Creating raw.info structure...\n",
      "Extracting EDF parameters from C:\\ARK\\python\\MDD\\full_dataset\\H\\EC\\H S1 EC.edf...\n",
      "EDF file detected\n",
      "Setting channel info structure...\n",
      "Creating raw.info structure...\n",
      "Extracting EDF parameters from C:\\ARK\\python\\MDD\\full_dataset\\H\\EC\\H S10 EC.edf...\n",
      "EDF file detected\n",
      "Setting channel info structure...\n",
      "Creating raw.info structure...\n",
      "Extracting EDF parameters from C:\\ARK\\python\\MDD\\full_dataset\\H\\EC\\H S11 EC.edf...\n",
      "EDF file detected\n",
      "Setting channel info structure...\n",
      "Creating raw.info structure...\n",
      "Extracting EDF parameters from C:\\ARK\\python\\MDD\\full_dataset\\H\\EC\\H S13 EC.edf...\n",
      "EDF file detected\n",
      "Setting channel info structure...\n",
      "Creating raw.info structure...\n",
      "Extracting EDF parameters from C:\\ARK\\python\\MDD\\full_dataset\\H\\EC\\H S14 EC.edf...\n",
      "EDF file detected\n",
      "Setting channel info structure...\n",
      "Creating raw.info structure...\n",
      "Extracting EDF parameters from C:\\ARK\\python\\MDD\\full_dataset\\H\\EC\\H S15 EC.edf...\n",
      "EDF file detected\n",
      "Setting channel info structure...\n",
      "Creating raw.info structure...\n",
      "Extracting EDF parameters from C:\\ARK\\python\\MDD\\full_dataset\\H\\EC\\H S16 EC.edf...\n",
      "EDF file detected\n",
      "Setting channel info structure...\n",
      "Creating raw.info structure...\n",
      "Extracting EDF parameters from C:\\ARK\\python\\MDD\\full_dataset\\H\\EC\\H S17 EC.edf...\n",
      "EDF file detected\n",
      "Setting channel info structure...\n",
      "Creating raw.info structure...\n",
      "Extracting EDF parameters from C:\\ARK\\python\\MDD\\full_dataset\\H\\EC\\H S19 EC.edf...\n",
      "EDF file detected\n",
      "Setting channel info structure...\n",
      "Creating raw.info structure...\n",
      "Extracting EDF parameters from C:\\ARK\\python\\MDD\\full_dataset\\H\\EC\\H S2 EC.edf...\n",
      "EDF file detected\n",
      "Setting channel info structure...\n",
      "Creating raw.info structure...\n",
      "Extracting EDF parameters from C:\\ARK\\python\\MDD\\full_dataset\\H\\EC\\H S20 EC.edf...\n",
      "EDF file detected\n",
      "Setting channel info structure...\n",
      "Creating raw.info structure...\n",
      "Extracting EDF parameters from C:\\ARK\\python\\MDD\\full_dataset\\H\\EC\\H S21 EC.edf...\n",
      "EDF file detected\n",
      "Setting channel info structure...\n",
      "Creating raw.info structure...\n",
      "Extracting EDF parameters from C:\\ARK\\python\\MDD\\full_dataset\\H\\EC\\H S22 EC.edf...\n",
      "EDF file detected\n",
      "Setting channel info structure...\n",
      "Creating raw.info structure...\n",
      "Extracting EDF parameters from C:\\ARK\\python\\MDD\\full_dataset\\H\\EC\\H S23 EC.edf...\n",
      "EDF file detected\n",
      "Setting channel info structure...\n",
      "Creating raw.info structure...\n",
      "Extracting EDF parameters from C:\\ARK\\python\\MDD\\full_dataset\\H\\EC\\H S24 EC.edf...\n",
      "EDF file detected\n",
      "Setting channel info structure...\n",
      "Creating raw.info structure...\n",
      "Extracting EDF parameters from C:\\ARK\\python\\MDD\\full_dataset\\H\\EC\\H S25 EC.edf...\n",
      "EDF file detected\n",
      "Setting channel info structure...\n",
      "Creating raw.info structure...\n",
      "Extracting EDF parameters from C:\\ARK\\python\\MDD\\full_dataset\\H\\EC\\H S26 EC.edf...\n",
      "EDF file detected\n",
      "Setting channel info structure...\n",
      "Creating raw.info structure...\n",
      "Extracting EDF parameters from C:\\ARK\\python\\MDD\\full_dataset\\H\\EC\\H S27 EC.edf...\n",
      "EDF file detected\n",
      "Setting channel info structure...\n",
      "Creating raw.info structure...\n",
      "Extracting EDF parameters from C:\\ARK\\python\\MDD\\full_dataset\\H\\EC\\H S28 EC.edf...\n",
      "EDF file detected\n",
      "Setting channel info structure...\n",
      "Creating raw.info structure...\n",
      "Extracting EDF parameters from C:\\ARK\\python\\MDD\\full_dataset\\H\\EC\\H S29 EC.edf...\n",
      "EDF file detected\n",
      "Setting channel info structure...\n",
      "Creating raw.info structure...\n",
      "Extracting EDF parameters from C:\\ARK\\python\\MDD\\full_dataset\\H\\EC\\H S3 EC.edf...\n",
      "EDF file detected\n",
      "Setting channel info structure...\n",
      "Creating raw.info structure...\n",
      "Extracting EDF parameters from C:\\ARK\\python\\MDD\\full_dataset\\H\\EC\\H S30 EC.edf...\n",
      "EDF file detected\n",
      "Setting channel info structure...\n",
      "Creating raw.info structure...\n",
      "Extracting EDF parameters from C:\\ARK\\python\\MDD\\full_dataset\\H\\EC\\H S4 EC.edf...\n",
      "EDF file detected\n",
      "Setting channel info structure...\n",
      "Creating raw.info structure...\n",
      "Extracting EDF parameters from C:\\ARK\\python\\MDD\\full_dataset\\H\\EC\\H S5 EC.edf...\n",
      "EDF file detected\n",
      "Setting channel info structure...\n",
      "Creating raw.info structure...\n",
      "Extracting EDF parameters from C:\\ARK\\python\\MDD\\full_dataset\\H\\EC\\H S6 EC.edf...\n",
      "EDF file detected\n",
      "Setting channel info structure...\n",
      "Creating raw.info structure...\n",
      "Extracting EDF parameters from C:\\ARK\\python\\MDD\\full_dataset\\H\\EC\\H S7 EC.edf...\n",
      "EDF file detected\n",
      "Setting channel info structure...\n",
      "Creating raw.info structure...\n",
      "Extracting EDF parameters from C:\\ARK\\python\\MDD\\full_dataset\\H\\EC\\H S8 EC.edf...\n",
      "EDF file detected\n",
      "Setting channel info structure...\n",
      "Creating raw.info structure...\n",
      "Extracting EDF parameters from C:\\ARK\\python\\MDD\\full_dataset\\H\\EC\\H S9 EC.edf...\n",
      "EDF file detected\n",
      "Setting channel info structure...\n",
      "Creating raw.info structure...\n"
     ]
    }
   ],
   "source": [
    "MDD_dataset_Filenames = os.listdir('./full_dataset/MDD/EC/')\n",
    "H_dataset_Filenames = os.listdir('./full_dataset/H/EC/')\n",
    "\n",
    "MDD_dataset_list = []\n",
    "H_dataset_list = []\n",
    "\n",
    "for filename in MDD_dataset_Filenames:\n",
    "    data = mne.io.read_raw_edf('./full_dataset/MDD/EC/' + str(filename))\n",
    "    MDD_dataset_list.append(data)  \n",
    "    \n",
    "for filename in H_dataset_Filenames:\n",
    "    data = mne.io.read_raw_edf('./full_dataset/H/EC/' + str(filename))\n",
    "    H_dataset_list.append(data)  "
   ]
  },
  {
   "cell_type": "code",
   "execution_count": 105,
   "metadata": {},
   "outputs": [
    {
     "data": {
      "text/plain": [
       "['EEG Fp1-LE',\n",
       " 'EEG F3-LE',\n",
       " 'EEG C3-LE',\n",
       " 'EEG P3-LE',\n",
       " 'EEG O1-LE',\n",
       " 'EEG F7-LE',\n",
       " 'EEG T3-LE',\n",
       " 'EEG T5-LE',\n",
       " 'EEG Fz-LE',\n",
       " 'EEG Fp2-LE',\n",
       " 'EEG F4-LE',\n",
       " 'EEG C4-LE',\n",
       " 'EEG P4-LE',\n",
       " 'EEG O2-LE',\n",
       " 'EEG F8-LE',\n",
       " 'EEG T4-LE',\n",
       " 'EEG T6-LE',\n",
       " 'EEG Cz-LE',\n",
       " 'EEG Pz-LE',\n",
       " 'EEG A2-A1']"
      ]
     },
     "execution_count": 105,
     "metadata": {},
     "output_type": "execute_result"
    }
   ],
   "source": [
    "MDD_dataset_list[0].ch_names"
   ]
  },
  {
   "cell_type": "code",
   "execution_count": 113,
   "metadata": {
    "collapsed": false,
    "jupyter": {
     "outputs_hidden": false
    },
    "pycharm": {
     "is_executing": false,
     "name": "#%%\n"
    }
   },
   "outputs": [],
   "source": [
    "MDD_dataframe = [] #MDD 환자의 데이터프레임 리스트\n",
    "H_dataframe = [] #건강한 사람의 데이터프레임 리스트\n",
    "y = []\n",
    "for raw in MDD_dataset_list:\n",
    "    raw_data = raw.get_data(return_times=True)\n",
    "    channels = raw.ch_names\n",
    "    T_data = np.transpose(raw_data[0])\n",
    "    time = np.transpose(raw_data[1])\n",
    "    temp = pd.DataFrame(T_data, columns = channels, index = time)\n",
    "    MDD_dataframe.append(temp[['EEG Fp1-LE', 'EEG F3-LE', 'EEG F7-LE', 'EEG Fz-LE', 'EEG Fp2-LE', 'EEG F4-LE', 'EEG F8-LE']])\n",
    "    y.append(1)\n",
    "    \n",
    "for raw in H_dataset_list:\n",
    "    raw_data = raw.get_data(return_times=True)\n",
    "    channels = raw.ch_names\n",
    "    T_data = np.transpose(raw_data[0])\n",
    "    time = np.transpose(raw_data[1])\n",
    "    temp = pd.DataFrame(T_data, columns = channels, index = time)\n",
    "    H_dataframe.append(temp[['EEG Fp1-LE', 'EEG F3-LE', 'EEG F7-LE', 'EEG Fz-LE', 'EEG Fp2-LE', 'EEG F4-LE', 'EEG F8-LE']])\n",
    "    y.append(0)\n",
    "y = np.asarray(y)    "
   ]
  },
  {
   "cell_type": "code",
   "execution_count": 114,
   "metadata": {
    "collapsed": false,
    "jupyter": {
     "outputs_hidden": false
    },
    "pycharm": {
     "is_executing": false,
     "name": "#%%\n"
    }
   },
   "outputs": [],
   "source": [
    "MDD_fft_df = np.zeros((1, 7, 30000))\n",
    "for df in MDD_dataframe:\n",
    "    col = list(df.columns)\n",
    "    fft = abs(fftpack.fft(np.array(df[col[0]])))[:30000]\n",
    "    for i in range(1, len(col)):\n",
    "        power = fftpack.fft(np.array(df[col[i]]))\n",
    "        power = abs(power)\n",
    "        fft = np.vstack([fft, power[:30000]])\n",
    "    MDD_fft_df = np.vstack([MDD_fft_df[:,:,:], fft[newaxis,:,:]])\n",
    "MDD_fft_df = MDD_fft_df[1:]"
   ]
  },
  {
   "cell_type": "code",
   "execution_count": 115,
   "metadata": {},
   "outputs": [],
   "source": [
    "H_fft_df = np.zeros((1, 7, 30000))\n",
    "for df in H_dataframe:\n",
    "    col = list(df.columns)\n",
    "    fft = abs(fftpack.fft(np.array(df[col[0]])))[:30000]\n",
    "    for i in range(1, len(col)):\n",
    "        power = fftpack.fft(np.array(df[col[i]]))\n",
    "        power = abs(power)\n",
    "        fft = np.vstack([fft, power[:30000]])\n",
    "    H_fft_df = np.vstack([H_fft_df[:,:,:], fft[newaxis,:,:]])\n",
    "H_fft_df = H_fft_df[1:]"
   ]
  },
  {
   "cell_type": "code",
   "execution_count": 153,
   "metadata": {},
   "outputs": [
    {
     "name": "stdout",
     "output_type": "stream",
     "text": [
      "(58, 7, 30000) (58,)\n"
     ]
    },
    {
     "data": {
      "text/plain": [
       "(58, 30000, 7)"
      ]
     },
     "execution_count": 153,
     "metadata": {},
     "output_type": "execute_result"
    }
   ],
   "source": [
    "all_fft = np.vstack([MDD_fft_df, H_fft_df])\n",
    "print(all_fft.shape , y.shape)\n",
    "\n",
    "\n",
    "features = all_fft.reshape(58,30000,7)\n",
    "target = y\n",
    "features.shape\n",
    "\n"
   ]
  },
  {
   "cell_type": "code",
   "execution_count": 127,
   "metadata": {},
   "outputs": [],
   "source": []
  },
  {
   "cell_type": "code",
   "execution_count": 159,
   "metadata": {},
   "outputs": [
    {
     "ename": "IndexError",
     "evalue": "tuple index out of range",
     "output_type": "error",
     "traceback": [
      "\u001b[1;31m---------------------------------------------------------------------------\u001b[0m",
      "\u001b[1;31mIndexError\u001b[0m                                Traceback (most recent call last)",
      "\u001b[1;32m<ipython-input-159-3de4081aeb50>\u001b[0m in \u001b[0;36m<module>\u001b[1;34m\u001b[0m\n\u001b[0;32m     12\u001b[0m \u001b[1;32mfor\u001b[0m \u001b[0mtrain\u001b[0m\u001b[1;33m,\u001b[0m \u001b[0mtest\u001b[0m \u001b[1;32min\u001b[0m \u001b[0mkfold\u001b[0m\u001b[1;33m.\u001b[0m\u001b[0msplit\u001b[0m\u001b[1;33m(\u001b[0m\u001b[0mfeatures\u001b[0m\u001b[1;33m,\u001b[0m \u001b[0mtarget\u001b[0m\u001b[1;33m)\u001b[0m\u001b[1;33m:\u001b[0m\u001b[1;33m\u001b[0m\u001b[1;33m\u001b[0m\u001b[0m\n\u001b[0;32m     13\u001b[0m     \u001b[0mk_model\u001b[0m \u001b[1;33m=\u001b[0m \u001b[0mmodels\u001b[0m\u001b[1;33m.\u001b[0m\u001b[0mSequential\u001b[0m\u001b[1;33m(\u001b[0m\u001b[1;33m)\u001b[0m\u001b[1;33m\u001b[0m\u001b[1;33m\u001b[0m\u001b[0m\n\u001b[1;32m---> 14\u001b[1;33m     \u001b[0mk_model\u001b[0m\u001b[1;33m.\u001b[0m\u001b[0madd\u001b[0m\u001b[1;33m(\u001b[0m\u001b[0mlayers\u001b[0m\u001b[1;33m.\u001b[0m\u001b[0mDense\u001b[0m\u001b[1;33m(\u001b[0m\u001b[1;36m64\u001b[0m\u001b[1;33m,\u001b[0m \u001b[0mactivation\u001b[0m \u001b[1;33m=\u001b[0m \u001b[1;34m'relu'\u001b[0m\u001b[1;33m,\u001b[0m \u001b[0minput_shape\u001b[0m \u001b[1;33m=\u001b[0m \u001b[1;33m(\u001b[0m\u001b[0mtrain\u001b[0m\u001b[1;33m.\u001b[0m\u001b[0mshape\u001b[0m\u001b[1;33m[\u001b[0m\u001b[1;36m1\u001b[0m\u001b[1;33m]\u001b[0m\u001b[1;33m)\u001b[0m\u001b[1;33m)\u001b[0m\u001b[1;33m)\u001b[0m\u001b[1;33m\u001b[0m\u001b[1;33m\u001b[0m\u001b[0m\n\u001b[0m\u001b[0;32m     15\u001b[0m     \u001b[0mk_model\u001b[0m\u001b[1;33m.\u001b[0m\u001b[0madd\u001b[0m\u001b[1;33m(\u001b[0m\u001b[0mlayers\u001b[0m\u001b[1;33m.\u001b[0m\u001b[0mDense\u001b[0m\u001b[1;33m(\u001b[0m\u001b[1;36m64\u001b[0m\u001b[1;33m,\u001b[0m \u001b[0mactivation\u001b[0m \u001b[1;33m=\u001b[0m \u001b[1;34m'relu'\u001b[0m\u001b[1;33m)\u001b[0m\u001b[1;33m)\u001b[0m\u001b[1;33m\u001b[0m\u001b[1;33m\u001b[0m\u001b[0m\n\u001b[0;32m     16\u001b[0m     \u001b[0mk_model\u001b[0m\u001b[1;33m.\u001b[0m\u001b[0madd\u001b[0m\u001b[1;33m(\u001b[0m\u001b[0mlayers\u001b[0m\u001b[1;33m.\u001b[0m\u001b[0mDense\u001b[0m\u001b[1;33m(\u001b[0m\u001b[1;36m1\u001b[0m\u001b[1;33m,\u001b[0m \u001b[0mactivation\u001b[0m \u001b[1;33m=\u001b[0m \u001b[1;34m'sigmoid'\u001b[0m\u001b[1;33m)\u001b[0m\u001b[1;33m)\u001b[0m\u001b[1;33m\u001b[0m\u001b[1;33m\u001b[0m\u001b[0m\n",
      "\u001b[1;31mIndexError\u001b[0m: tuple index out of range"
     ]
    }
   ],
   "source": [
    "from keras import models\n",
    "from keras import layers\n",
    "from keras import backend as K\n",
    "\n",
    "accuracy_scores = []\n",
    "prec_scores = []\n",
    "rec_scores = []\n",
    "f1_scores = []\n",
    "\n",
    "from sklearn.model_selection import KFold\n",
    "kfold = KFold(n_splits=5, shuffle=True, random_state=3)\n",
    "for train, test in kfold.split(features, target):\n",
    "    k_model = models.Sequential()\n",
    "\n",
    "    k_model.add(layers.Dense(1, activation = 'sigmoid'))\n",
    "    \n",
    "    k_model.compile(optimizer='rmsprop',\n",
    "              loss='binary_crossentropy',\n",
    "              metrics=['accuracy', recall_m, precision_m, f1_m])\n",
    "    \n",
    "    k_model.fit(features[train], target[train], epochs=10, batch_size=512, verbose=0)\n",
    "    \n",
    "    scores = k_model.evaluate(features[test], target[test], verbose=0)\n",
    "    \n",
    "    print(\"%s: %.2f%%\" % (k_model.metrics_names[1], scores[1]*100))\n",
    "    print(\"%s: %.2f%%\" % (k_model.metrics_names[2], scores[2]*100))\n",
    "    print(\"%s: %.2f%%\" % (k_model.metrics_names[3], scores[3]*100))\n",
    "    print(\"%s: %.2f%%\" % (k_model.metrics_names[4], scores[4]*100))\n",
    "    print(\"\\n\")\n",
    "    accuracy_scores.append(scores[1] * 100)\n",
    "    prec_scores.append(scores[2])\n",
    "    rec_scores.append(scores[3])\n",
    "    f1_scores.append(scores[4])\n",
    "    \n",
    "print(\"%.2f (+/- %.2f%%)\" % (np.mean(accuracy_scores), np.std(accuracy_scores)))\n",
    "print(\"%.2f (+/- %.2f%%)\" % (np.mean(prec_scores), np.std(prec_scores)))\n",
    "print(\"%.2f (+/- %.2f%%)\" % (np.mean(rec_scores), np.std(rec_scores)))\n",
    "print(\"%.2f (+/- %.2f%%)\" % (np.mean(f1_scores), np.std(f1_scores)))"
   ]
  },
  {
   "cell_type": "code",
   "execution_count": 132,
   "metadata": {},
   "outputs": [
    {
     "data": {
      "text/plain": [
       "array([[3.67218015e-03, 1.96008687e-04, 1.75297682e-04, ...,\n",
       "        1.62042277e-05, 8.02909788e-06, 1.93463471e-05],\n",
       "       [3.78808899e-03, 8.65287271e-05, 7.67966325e-05, ...,\n",
       "        6.18513095e-06, 7.88748715e-06, 5.16121682e-06],\n",
       "       [3.85229389e-03, 3.50912260e-05, 3.82679608e-05, ...,\n",
       "        1.15896120e-05, 1.18638281e-05, 1.23796553e-06],\n",
       "       ...,\n",
       "       [3.71278325e-03, 1.31205885e-04, 1.45640466e-04, ...,\n",
       "        1.55485331e-05, 1.86408613e-05, 1.30821007e-05],\n",
       "       [3.73548498e-03, 9.41030022e-05, 1.09909791e-04, ...,\n",
       "        6.92258111e-06, 8.70650702e-06, 8.54905618e-06],\n",
       "       [3.74668583e-03, 1.15659392e-04, 1.10602677e-04, ...,\n",
       "        2.50361293e-06, 1.30259420e-05, 4.51138760e-06]])"
      ]
     },
     "execution_count": 132,
     "metadata": {},
     "output_type": "execute_result"
    }
   ],
   "source": [
    "features[train][i]"
   ]
  },
  {
   "cell_type": "code",
   "execution_count": null,
   "metadata": {},
   "outputs": [],
   "source": [
    "plt.pcolormesh(t, f, np.abs(z))\n",
    "plt.ylim(0,0.1)ff"
   ]
  },
  {
   "cell_type": "code",
   "execution_count": null,
   "metadata": {},
   "outputs": [],
   "source": [
    "all_df = np.array(MDD_dataframe[0].T)[newaxis,:,:45000]\n",
    "\n",
    "for i in range(1, len(MDD_dataframe)):\n",
    "    b = np.array(MDD_dataframe[i].T)\n",
    "    print(b.shape)\n",
    "    print(all_df.shape)\n",
    "    all_df = np.vstack([all_df, b[newaxis,:,:45000]])\n",
    "    \n",
    "\n",
    "all_df.shape"
   ]
  }
 ],
 "metadata": {
  "kernelspec": {
   "display_name": "Python 3",
   "language": "python",
   "name": "python3"
  },
  "language_info": {
   "codemirror_mode": {
    "name": "ipython",
    "version": 3
   },
   "file_extension": ".py",
   "mimetype": "text/x-python",
   "name": "python",
   "nbconvert_exporter": "python",
   "pygments_lexer": "ipython3",
   "version": "3.7.3"
  },
  "pycharm": {
   "stem_cell": {
    "cell_type": "raw",
    "metadata": {
     "collapsed": false
    },
    "source": []
   }
  }
 },
 "nbformat": 4,
 "nbformat_minor": 4
}
