{
  "nbformat": 4,
  "nbformat_minor": 0,
  "metadata": {
    "colab": {
      "name": "Baseline.ipynb",
      "provenance": [],
      "collapsed_sections": [],
      "authorship_tag": "ABX9TyP03dy2LKWZtLvNDVTqWh3g",
      "include_colab_link": true
    },
    "kernelspec": {
      "name": "python3",
      "display_name": "Python 3"
    },
    "language_info": {
      "name": "python"
    }
  },
  "cells": [
    {
      "cell_type": "markdown",
      "metadata": {
        "id": "view-in-github",
        "colab_type": "text"
      },
      "source": [
        "<a href=\"https://colab.research.google.com/github/ark1st/MDD/blob/master/Baseline.ipynb\" target=\"_parent\"><img src=\"https://colab.research.google.com/assets/colab-badge.svg\" alt=\"Open In Colab\"/></a>"
      ]
    },
    {
      "cell_type": "code",
      "metadata": {
        "colab": {
          "base_uri": "https://localhost:8080/"
        },
        "id": "RTt3IvO-Xy0M",
        "outputId": "b861424b-5bde-4df5-8624-12d97ef47473"
      },
      "source": [
        "from google.colab import drive \n",
        "\n",
        "drive.mount('/content/gdrive/')"
      ],
      "execution_count": 24,
      "outputs": [
        {
          "output_type": "stream",
          "text": [
            "Drive already mounted at /content/gdrive/; to attempt to forcibly remount, call drive.mount(\"/content/gdrive/\", force_remount=True).\n"
          ],
          "name": "stdout"
        }
      ]
    },
    {
      "cell_type": "code",
      "metadata": {
        "colab": {
          "base_uri": "https://localhost:8080/"
        },
        "id": "LlGyKXrnY7CF",
        "outputId": "ab381df6-d8d3-401d-9987-70d9a641033d"
      },
      "source": [
        "!pip install mne"
      ],
      "execution_count": 25,
      "outputs": [
        {
          "output_type": "stream",
          "text": [
            "Requirement already satisfied: mne in /usr/local/lib/python3.7/dist-packages (0.23.0)\n",
            "Requirement already satisfied: scipy>=1.1.0 in /usr/local/lib/python3.7/dist-packages (from mne) (1.4.1)\n",
            "Requirement already satisfied: numpy>=1.15.4 in /usr/local/lib/python3.7/dist-packages (from mne) (1.19.5)\n"
          ],
          "name": "stdout"
        }
      ]
    },
    {
      "cell_type": "code",
      "metadata": {
        "id": "S_vHGsNkY5MN"
      },
      "source": [
        "#%%\n",
        "import pandas as pd\n",
        "import numpy as np\n",
        "import matplotlib.pyplot as plt\n",
        "import matplotlib.dates as md\n",
        "import os\n",
        "import mne\n",
        "import random\n",
        "from sklearn.metrics import classification_report\n",
        "from numpy import zeros, newaxis\n",
        "from scipy import signal\n",
        "from scipy import fftpack"
      ],
      "execution_count": 26,
      "outputs": []
    },
    {
      "cell_type": "code",
      "metadata": {
        "id": "6e_svfdnX6c5"
      },
      "source": [
        "def data_load(path, input_list):\n",
        "  list_im=input_list\n",
        "  print(len(list_im))\n",
        "  total_list = []\n",
        "  for k in range(len(list_im)):\n",
        "    print('loading dataset : ',k)\n",
        "    data_first = pd.read_csv(path+list_im[k])\n",
        "    total_list.append(data_first)\n",
        "  return total_list"
      ],
      "execution_count": 27,
      "outputs": []
    },
    {
      "cell_type": "code",
      "metadata": {
        "colab": {
          "base_uri": "https://localhost:8080/"
        },
        "id": "FphBwVtdjUqO",
        "outputId": "51c859a9-60db-4eed-cea2-617c1d012c68"
      },
      "source": [
        "MDD_path = \"/content/gdrive/MyDrive/Colab Notebooks/EEECS/Nor_ICA/MDD/\"\n",
        "H_path = \"/content/gdrive/MyDrive/Colab Notebooks/EEECS/Nor_ICA/H/\"\n",
        "MDD_list = os.listdir(\"/content/gdrive/MyDrive/Colab Notebooks/EEECS/Nor_ICA/MDD\")\n",
        "H_list = os.listdir(\"/content/gdrive/MyDrive/Colab Notebooks/EEECS/Nor_ICA/H\")\n",
        "\n",
        "MDD_dataframe = data_load(MDD_path, MDD_list)\n",
        "H_dataframe = data_load(H_path, H_list)"
      ],
      "execution_count": 28,
      "outputs": [
        {
          "output_type": "stream",
          "text": [
            "30\n",
            "loading dataset :  0\n",
            "loading dataset :  1\n",
            "loading dataset :  2\n",
            "loading dataset :  3\n",
            "loading dataset :  4\n",
            "loading dataset :  5\n",
            "loading dataset :  6\n",
            "loading dataset :  7\n",
            "loading dataset :  8\n",
            "loading dataset :  9\n",
            "loading dataset :  10\n",
            "loading dataset :  11\n",
            "loading dataset :  12\n",
            "loading dataset :  13\n",
            "loading dataset :  14\n",
            "loading dataset :  15\n",
            "loading dataset :  16\n",
            "loading dataset :  17\n",
            "loading dataset :  18\n",
            "loading dataset :  19\n",
            "loading dataset :  20\n",
            "loading dataset :  21\n",
            "loading dataset :  22\n",
            "loading dataset :  23\n",
            "loading dataset :  24\n",
            "loading dataset :  25\n",
            "loading dataset :  26\n",
            "loading dataset :  27\n",
            "loading dataset :  28\n",
            "loading dataset :  29\n",
            "27\n",
            "loading dataset :  0\n",
            "loading dataset :  1\n",
            "loading dataset :  2\n",
            "loading dataset :  3\n",
            "loading dataset :  4\n",
            "loading dataset :  5\n",
            "loading dataset :  6\n",
            "loading dataset :  7\n",
            "loading dataset :  8\n",
            "loading dataset :  9\n",
            "loading dataset :  10\n",
            "loading dataset :  11\n",
            "loading dataset :  12\n",
            "loading dataset :  13\n",
            "loading dataset :  14\n",
            "loading dataset :  15\n",
            "loading dataset :  16\n",
            "loading dataset :  17\n",
            "loading dataset :  18\n",
            "loading dataset :  19\n",
            "loading dataset :  20\n",
            "loading dataset :  21\n",
            "loading dataset :  22\n",
            "loading dataset :  23\n",
            "loading dataset :  24\n",
            "loading dataset :  25\n",
            "loading dataset :  26\n"
          ],
          "name": "stdout"
        }
      ]
    },
    {
      "cell_type": "code",
      "metadata": {
        "id": "YMAiLdyY4_jd"
      },
      "source": [
        "seg_unit = 256 * 10"
      ],
      "execution_count": 58,
      "outputs": []
    },
    {
      "cell_type": "code",
      "metadata": {
        "id": "TQ-O6Bjrm-2k"
      },
      "source": [
        " def data_segmentation(dataset_list):\n",
        "  temp = []\n",
        "  for k in range(len(dataset_list)):\n",
        "      data_first = dataset_list[k]\n",
        "      for i in range(75):\n",
        "          sliced_data = data_first.iloc[i*seg_unit : (i+1)*seg_unit]\n",
        "          if (len(sliced_data)==seg_unit):\n",
        "            col = ['Fp1-LE', 'F7-LE', 'Fp2-LE', 'F8-LE']\n",
        "            temp.append(sliced_data[col])\n",
        "  return temp"
      ],
      "execution_count": 59,
      "outputs": []
    },
    {
      "cell_type": "code",
      "metadata": {
        "id": "ZCWAJDJtnd7D"
      },
      "source": [
        "seg_MDD = data_segmentation(MDD_dataframe)\n",
        "seg_H = data_segmentation(H_dataframe)\n",
        "\n",
        "y_MDD = [1 for i in range(len(seg_MDD))]\n",
        "y_H = [0 for i in range(len(seg_H))]"
      ],
      "execution_count": 60,
      "outputs": []
    },
    {
      "cell_type": "code",
      "metadata": {
        "colab": {
          "base_uri": "https://localhost:8080/"
        },
        "id": "EFEKIg54n53d",
        "outputId": "d1c9120d-3d53-4036-b32a-e0a28a024131"
      },
      "source": [
        "len(seg_MDD), len(seg_H)"
      ],
      "execution_count": 61,
      "outputs": [
        {
          "output_type": "execute_result",
          "data": {
            "text/plain": [
              "(873, 820)"
            ]
          },
          "metadata": {
            "tags": []
          },
          "execution_count": 61
        }
      ]
    },
    {
      "cell_type": "code",
      "metadata": {
        "colab": {
          "base_uri": "https://localhost:8080/",
          "height": 422
        },
        "id": "tpeXr5YJZT7-",
        "outputId": "6d8a5612-26fa-4687-b25e-d04d27fb1560"
      },
      "source": [
        "seg_MDD[0]"
      ],
      "execution_count": 62,
      "outputs": [
        {
          "output_type": "execute_result",
          "data": {
            "text/html": [
              "<div>\n",
              "<style scoped>\n",
              "    .dataframe tbody tr th:only-of-type {\n",
              "        vertical-align: middle;\n",
              "    }\n",
              "\n",
              "    .dataframe tbody tr th {\n",
              "        vertical-align: top;\n",
              "    }\n",
              "\n",
              "    .dataframe thead th {\n",
              "        text-align: right;\n",
              "    }\n",
              "</style>\n",
              "<table border=\"1\" class=\"dataframe\">\n",
              "  <thead>\n",
              "    <tr style=\"text-align: right;\">\n",
              "      <th></th>\n",
              "      <th>Fp1-LE</th>\n",
              "      <th>F7-LE</th>\n",
              "      <th>Fp2-LE</th>\n",
              "      <th>F8-LE</th>\n",
              "    </tr>\n",
              "  </thead>\n",
              "  <tbody>\n",
              "    <tr>\n",
              "      <th>0</th>\n",
              "      <td>-0.001333</td>\n",
              "      <td>0.002566</td>\n",
              "      <td>-0.000418</td>\n",
              "      <td>0.000127</td>\n",
              "    </tr>\n",
              "    <tr>\n",
              "      <th>1</th>\n",
              "      <td>-0.002306</td>\n",
              "      <td>0.002983</td>\n",
              "      <td>-0.001492</td>\n",
              "      <td>0.000514</td>\n",
              "    </tr>\n",
              "    <tr>\n",
              "      <th>2</th>\n",
              "      <td>-0.002692</td>\n",
              "      <td>0.002934</td>\n",
              "      <td>-0.002372</td>\n",
              "      <td>0.000326</td>\n",
              "    </tr>\n",
              "    <tr>\n",
              "      <th>3</th>\n",
              "      <td>-0.002872</td>\n",
              "      <td>0.002681</td>\n",
              "      <td>-0.002407</td>\n",
              "      <td>-0.000283</td>\n",
              "    </tr>\n",
              "    <tr>\n",
              "      <th>4</th>\n",
              "      <td>-0.002508</td>\n",
              "      <td>0.002377</td>\n",
              "      <td>-0.001611</td>\n",
              "      <td>-0.001088</td>\n",
              "    </tr>\n",
              "    <tr>\n",
              "      <th>...</th>\n",
              "      <td>...</td>\n",
              "      <td>...</td>\n",
              "      <td>...</td>\n",
              "      <td>...</td>\n",
              "    </tr>\n",
              "    <tr>\n",
              "      <th>2555</th>\n",
              "      <td>0.001969</td>\n",
              "      <td>-0.004901</td>\n",
              "      <td>0.001528</td>\n",
              "      <td>-0.000336</td>\n",
              "    </tr>\n",
              "    <tr>\n",
              "      <th>2556</th>\n",
              "      <td>0.003944</td>\n",
              "      <td>-0.004203</td>\n",
              "      <td>0.002321</td>\n",
              "      <td>0.000007</td>\n",
              "    </tr>\n",
              "    <tr>\n",
              "      <th>2557</th>\n",
              "      <td>0.005222</td>\n",
              "      <td>-0.002884</td>\n",
              "      <td>0.002712</td>\n",
              "      <td>0.000050</td>\n",
              "    </tr>\n",
              "    <tr>\n",
              "      <th>2558</th>\n",
              "      <td>0.005713</td>\n",
              "      <td>-0.001252</td>\n",
              "      <td>0.002597</td>\n",
              "      <td>-0.000192</td>\n",
              "    </tr>\n",
              "    <tr>\n",
              "      <th>2559</th>\n",
              "      <td>0.005025</td>\n",
              "      <td>0.000318</td>\n",
              "      <td>0.002226</td>\n",
              "      <td>-0.000406</td>\n",
              "    </tr>\n",
              "  </tbody>\n",
              "</table>\n",
              "<p>2560 rows × 4 columns</p>\n",
              "</div>"
            ],
            "text/plain": [
              "        Fp1-LE     F7-LE    Fp2-LE     F8-LE\n",
              "0    -0.001333  0.002566 -0.000418  0.000127\n",
              "1    -0.002306  0.002983 -0.001492  0.000514\n",
              "2    -0.002692  0.002934 -0.002372  0.000326\n",
              "3    -0.002872  0.002681 -0.002407 -0.000283\n",
              "4    -0.002508  0.002377 -0.001611 -0.001088\n",
              "...        ...       ...       ...       ...\n",
              "2555  0.001969 -0.004901  0.001528 -0.000336\n",
              "2556  0.003944 -0.004203  0.002321  0.000007\n",
              "2557  0.005222 -0.002884  0.002712  0.000050\n",
              "2558  0.005713 -0.001252  0.002597 -0.000192\n",
              "2559  0.005025  0.000318  0.002226 -0.000406\n",
              "\n",
              "[2560 rows x 4 columns]"
            ]
          },
          "metadata": {
            "tags": []
          },
          "execution_count": 62
        }
      ]
    },
    {
      "cell_type": "code",
      "metadata": {
        "colab": {
          "base_uri": "https://localhost:8080/",
          "height": 283
        },
        "id": "unxQKYhJZsl0",
        "outputId": "c1d7f123-c592-44fd-c73f-26530b274e12"
      },
      "source": [
        "all_dataframe = seg_MDD + seg_H\n",
        "y = y_MDD + y_H\n",
        "all_dataframe[0]['Fp1-LE'].plot()\n",
        "all_dataframe[0].shape"
      ],
      "execution_count": 63,
      "outputs": [
        {
          "output_type": "execute_result",
          "data": {
            "text/plain": [
              "(2560, 4)"
            ]
          },
          "metadata": {
            "tags": []
          },
          "execution_count": 63
        },
        {
          "output_type": "display_data",
          "data": {
            "image/png": "[encoded data removed]",
            "text/plain": [
              "<Figure size 432x288 with 1 Axes>"
            ]
          },
          "metadata": {
            "tags": [],
            "needs_background": "light"
          }
        }
      ]
    },
    {
      "cell_type": "code",
      "metadata": {
        "id": "z7ZboDrTZvfs"
      },
      "source": [
        "from sklearn.model_selection import train_test_split\n",
        "X_train, X_test, y_train, y_test = train_test_split(all_dataframe, y, test_size=0.2, random_state = 777)\n"
      ],
      "execution_count": 64,
      "outputs": []
    },
    {
      "cell_type": "code",
      "metadata": {
        "id": "4B3JFLOraiZk"
      },
      "source": [
        "X_train = np.array(X_train)\n",
        "X_test = np.array(X_test)\n",
        "y_train = np.array(y_train)\n",
        "y_test = np.array(y_test)"
      ],
      "execution_count": 65,
      "outputs": []
    },
    {
      "cell_type": "code",
      "metadata": {
        "colab": {
          "base_uri": "https://localhost:8080/"
        },
        "id": "vZydfv4Da6QV",
        "outputId": "c656e73a-fa1a-4422-cb9b-997b7b94c6e1"
      },
      "source": [
        "print(X_train.shape)\n",
        "print(y_train.shape)\n",
        "print(X_test.shape)"
      ],
      "execution_count": 66,
      "outputs": [
        {
          "output_type": "stream",
          "text": [
            "(1354, 2560, 4)\n",
            "(1354,)\n",
            "(339, 2560, 4)\n"
          ],
          "name": "stdout"
        }
      ]
    },
    {
      "cell_type": "code",
      "metadata": {
        "id": "6cRK6qoN44Vt"
      },
      "source": [
        "def sensitivity(y_true, y_pred):\n",
        "    true_positives = K.sum(K.round(K.clip(y_true * y_pred, 0, 1)))\n",
        "    possible_positives = K.sum(K.round(K.clip(y_true, 0, 1)))\n",
        "    return true_positives / (possible_positives + K.epsilon())\n",
        "\n",
        "def specificity(y_true, y_pred):\n",
        "    true_negatives = K.sum(K.round(K.clip((1-y_true) * (1-y_pred), 0, 1)))\n",
        "    possible_negatives = K.sum(K.round(K.clip(1-y_true, 0, 1)))\n",
        "    return true_negatives / (possible_negatives + K.epsilon())\n",
        "\n",
        "\n",
        "def true_pred(model, validation_generator):\n",
        "    validation_generator.reset()\n",
        "    predictions = model.predict_generator(validation_generator, steps=1)\n",
        "    test_preds = np.rint(predictions)\n",
        "    l=test_preds.shape[0]\n",
        "    test_trues = validation_generator.classes\n",
        "    return test_trues, test_preds"
      ],
      "execution_count": 71,
      "outputs": []
    },
    {
      "cell_type": "code",
      "metadata": {
        "id": "pxatptfkZ0gU"
      },
      "source": [
        "\n",
        "from tensorflow.keras import models\n",
        "from tensorflow.keras import layers\n",
        "from tensorflow.keras import backend as K\n",
        "from tensorflow.keras.optimizers import Adam\n",
        "\n",
        "def conv_model():\n",
        "    opt = Adam(lr=0.001)\n",
        "    model = models.Sequential()\n",
        "    model.add(layers.Conv1D(filters=64, kernel_size=2, activation='relu', input_shape=(seg_unit,4)))\n",
        "    model.add(layers.MaxPool1D(pool_size=2))\n",
        "    model.add(layers.Conv1D(filters=32, kernel_size=2, activation='relu'))\n",
        "    model.add(layers.MaxPool1D(pool_size=2))\n",
        "    model.add(layers.Conv1D(filters=16, kernel_size=2, activation='relu'))\n",
        "    model.add(layers.MaxPool1D(pool_size=2))\n",
        "    model.add(layers.Flatten())\n",
        "    model.add(layers.Dense(64, activation='relu'))\n",
        "    model.add(layers.Dense(1, activation='sigmoid'))\n",
        "\n",
        "    model.compile(optimizer=opt,\n",
        "                    loss='binary_crossentropy',\n",
        "                    metrics=['accuracy',  sensitivity, specificity])\n",
        "\n",
        "    return model"
      ],
      "execution_count": 72,
      "outputs": []
    },
    {
      "cell_type": "code",
      "metadata": {
        "colab": {
          "base_uri": "https://localhost:8080/"
        },
        "id": "9Nahs5JYZ1yc",
        "outputId": "bf1ee6f0-160d-4ddc-e61b-85669c2e7d42"
      },
      "source": [
        "model = conv_model()\n",
        "history = model.fit(X_train, y_train, epochs=30, batch_size=256, verbose=1, validation_split=(0.1))\n",
        "history_dict = history.history\n"
      ],
      "execution_count": 73,
      "outputs": [
        {
          "output_type": "stream",
          "text": [
            "/usr/local/lib/python3.7/dist-packages/tensorflow/python/keras/optimizer_v2/optimizer_v2.py:375: UserWarning: The `lr` argument is deprecated, use `learning_rate` instead.\n",
            "  \"The `lr` argument is deprecated, use `learning_rate` instead.\")\n"
          ],
          "name": "stderr"
        },
        {
          "output_type": "stream",
          "text": [
            "Epoch 1/30\n",
            "5/5 [==============================] - 6s 1s/step - loss: 0.6929 - accuracy: 0.5140 - sensitivity: 0.7190 - specificity: 0.2908 - val_loss: 0.6917 - val_accuracy: 0.5294 - val_sensitivity: 1.0000 - val_specificity: 0.0000e+00\n",
            "Epoch 2/30\n",
            "5/5 [==============================] - 6s 1s/step - loss: 0.6927 - accuracy: 0.5140 - sensitivity: 1.0000 - specificity: 0.0000e+00 - val_loss: 0.6912 - val_accuracy: 0.5294 - val_sensitivity: 1.0000 - val_specificity: 0.0000e+00\n",
            "Epoch 3/30\n",
            "5/5 [==============================] - 5s 964ms/step - loss: 0.6925 - accuracy: 0.5140 - sensitivity: 1.0000 - specificity: 0.0000e+00 - val_loss: 0.6914 - val_accuracy: 0.5294 - val_sensitivity: 1.0000 - val_specificity: 0.0000e+00\n",
            "Epoch 4/30\n",
            "5/5 [==============================] - 5s 960ms/step - loss: 0.6921 - accuracy: 0.5140 - sensitivity: 1.0000 - specificity: 0.0000e+00 - val_loss: 0.6907 - val_accuracy: 0.5294 - val_sensitivity: 1.0000 - val_specificity: 0.0000e+00\n",
            "Epoch 5/30\n",
            "5/5 [==============================] - 5s 964ms/step - loss: 0.6916 - accuracy: 0.5140 - sensitivity: 1.0000 - specificity: 0.0000e+00 - val_loss: 0.6899 - val_accuracy: 0.5294 - val_sensitivity: 1.0000 - val_specificity: 0.0000e+00\n",
            "Epoch 6/30\n",
            "5/5 [==============================] - 5s 966ms/step - loss: 0.6916 - accuracy: 0.5140 - sensitivity: 1.0000 - specificity: 0.0000e+00 - val_loss: 0.6898 - val_accuracy: 0.5294 - val_sensitivity: 1.0000 - val_specificity: 0.0000e+00\n",
            "Epoch 7/30\n",
            "5/5 [==============================] - 5s 966ms/step - loss: 0.6907 - accuracy: 0.5140 - sensitivity: 1.0000 - specificity: 0.0000e+00 - val_loss: 0.6886 - val_accuracy: 0.5294 - val_sensitivity: 1.0000 - val_specificity: 0.0000e+00\n",
            "Epoch 8/30\n",
            "5/5 [==============================] - 5s 974ms/step - loss: 0.6895 - accuracy: 0.5140 - sensitivity: 1.0000 - specificity: 0.0000e+00 - val_loss: 0.6866 - val_accuracy: 0.5294 - val_sensitivity: 1.0000 - val_specificity: 0.0000e+00\n",
            "Epoch 9/30\n",
            "5/5 [==============================] - 5s 974ms/step - loss: 0.6877 - accuracy: 0.5140 - sensitivity: 1.0000 - specificity: 0.0000e+00 - val_loss: 0.6851 - val_accuracy: 0.5294 - val_sensitivity: 1.0000 - val_specificity: 0.0000e+00\n",
            "Epoch 10/30\n",
            "5/5 [==============================] - 5s 974ms/step - loss: 0.6846 - accuracy: 0.5181 - sensitivity: 1.0000 - specificity: 0.0082 - val_loss: 0.6830 - val_accuracy: 0.6691 - val_sensitivity: 0.9722 - val_specificity: 0.3281\n",
            "Epoch 11/30\n",
            "5/5 [==============================] - 5s 977ms/step - loss: 0.6817 - accuracy: 0.5731 - sensitivity: 0.6687 - specificity: 0.4670 - val_loss: 0.6888 - val_accuracy: 0.5294 - val_sensitivity: 1.0000 - val_specificity: 0.0000e+00\n",
            "Epoch 12/30\n",
            "5/5 [==============================] - 5s 982ms/step - loss: 0.6809 - accuracy: 0.5764 - sensitivity: 0.7373 - specificity: 0.3983 - val_loss: 0.6819 - val_accuracy: 0.5221 - val_sensitivity: 0.1250 - val_specificity: 0.9688\n",
            "Epoch 13/30\n",
            "5/5 [==============================] - 5s 980ms/step - loss: 0.6775 - accuracy: 0.5821 - sensitivity: 0.5686 - specificity: 0.5745 - val_loss: 0.6746 - val_accuracy: 0.5294 - val_sensitivity: 1.0000 - val_specificity: 0.0000e+00\n",
            "Epoch 14/30\n",
            "5/5 [==============================] - 5s 975ms/step - loss: 0.6693 - accuracy: 0.6412 - sensitivity: 0.7552 - specificity: 0.5275 - val_loss: 0.6670 - val_accuracy: 0.7647 - val_sensitivity: 0.8472 - val_specificity: 0.6719\n",
            "Epoch 15/30\n",
            "5/5 [==============================] - 5s 979ms/step - loss: 0.6594 - accuracy: 0.6478 - sensitivity: 0.9036 - specificity: 0.3880 - val_loss: 0.6776 - val_accuracy: 0.5000 - val_sensitivity: 0.0694 - val_specificity: 0.9844\n",
            "Epoch 16/30\n",
            "5/5 [==============================] - 5s 971ms/step - loss: 0.6620 - accuracy: 0.5887 - sensitivity: 0.6729 - specificity: 0.5394 - val_loss: 0.6641 - val_accuracy: 0.5221 - val_sensitivity: 0.1389 - val_specificity: 0.9531\n",
            "Epoch 17/30\n",
            "5/5 [==============================] - 5s 971ms/step - loss: 0.6483 - accuracy: 0.6470 - sensitivity: 0.7895 - specificity: 0.5481 - val_loss: 0.6425 - val_accuracy: 0.7721 - val_sensitivity: 0.6667 - val_specificity: 0.8906\n",
            "Epoch 18/30\n",
            "5/5 [==============================] - 5s 979ms/step - loss: 0.6317 - accuracy: 0.7102 - sensitivity: 0.8026 - specificity: 0.6372 - val_loss: 0.6393 - val_accuracy: 0.6765 - val_sensitivity: 0.4444 - val_specificity: 0.9375\n",
            "Epoch 19/30\n",
            "5/5 [==============================] - 5s 976ms/step - loss: 0.6185 - accuracy: 0.6773 - sensitivity: 0.7548 - specificity: 0.5739 - val_loss: 0.6203 - val_accuracy: 0.7574 - val_sensitivity: 0.6111 - val_specificity: 0.9219\n",
            "Epoch 20/30\n",
            "5/5 [==============================] - 5s 972ms/step - loss: 0.6038 - accuracy: 0.6872 - sensitivity: 0.6812 - specificity: 0.6697 - val_loss: 0.6016 - val_accuracy: 0.7206 - val_sensitivity: 0.9167 - val_specificity: 0.5000\n",
            "Epoch 21/30\n",
            "5/5 [==============================] - 5s 972ms/step - loss: 0.5807 - accuracy: 0.7660 - sensitivity: 0.7430 - specificity: 0.7746 - val_loss: 0.6023 - val_accuracy: 0.6324 - val_sensitivity: 0.9722 - val_specificity: 0.2500\n",
            "Epoch 22/30\n",
            "5/5 [==============================] - 5s 976ms/step - loss: 0.5650 - accuracy: 0.7397 - sensitivity: 0.7297 - specificity: 0.7388 - val_loss: 0.6516 - val_accuracy: 0.5441 - val_sensitivity: 1.0000 - val_specificity: 0.0312\n",
            "Epoch 23/30\n",
            "5/5 [==============================] - 5s 973ms/step - loss: 0.5750 - accuracy: 0.7094 - sensitivity: 0.7549 - specificity: 0.7034 - val_loss: 0.5803 - val_accuracy: 0.6618 - val_sensitivity: 0.9583 - val_specificity: 0.3281\n",
            "Epoch 24/30\n",
            "5/5 [==============================] - 5s 969ms/step - loss: 0.5384 - accuracy: 0.7619 - sensitivity: 0.8029 - specificity: 0.7253 - val_loss: 0.5712 - val_accuracy: 0.6544 - val_sensitivity: 0.9306 - val_specificity: 0.3438\n",
            "Epoch 25/30\n",
            "5/5 [==============================] - 5s 967ms/step - loss: 0.5121 - accuracy: 0.7898 - sensitivity: 0.7863 - specificity: 0.7934 - val_loss: 0.5463 - val_accuracy: 0.7206 - val_sensitivity: 0.9167 - val_specificity: 0.5000\n",
            "Epoch 26/30\n",
            "5/5 [==============================] - 5s 969ms/step - loss: 0.4930 - accuracy: 0.7980 - sensitivity: 0.8353 - specificity: 0.7670 - val_loss: 0.5227 - val_accuracy: 0.8309 - val_sensitivity: 0.7917 - val_specificity: 0.8750\n",
            "Epoch 27/30\n",
            "5/5 [==============================] - 5s 958ms/step - loss: 0.4801 - accuracy: 0.7956 - sensitivity: 0.7831 - specificity: 0.8191 - val_loss: 0.5428 - val_accuracy: 0.7868 - val_sensitivity: 0.6528 - val_specificity: 0.9375\n",
            "Epoch 28/30\n",
            "5/5 [==============================] - 5s 966ms/step - loss: 0.4654 - accuracy: 0.7931 - sensitivity: 0.7740 - specificity: 0.8175 - val_loss: 0.5205 - val_accuracy: 0.7941 - val_sensitivity: 0.6806 - val_specificity: 0.9219\n",
            "Epoch 29/30\n",
            "5/5 [==============================] - 5s 964ms/step - loss: 0.4713 - accuracy: 0.7808 - sensitivity: 0.7359 - specificity: 0.8210 - val_loss: 0.4990 - val_accuracy: 0.8162 - val_sensitivity: 0.7778 - val_specificity: 0.8594\n",
            "Epoch 30/30\n",
            "5/5 [==============================] - 5s 962ms/step - loss: 0.4710 - accuracy: 0.7668 - sensitivity: 0.7659 - specificity: 0.7637 - val_loss: 0.5015 - val_accuracy: 0.8088 - val_sensitivity: 0.7361 - val_specificity: 0.8906\n"
          ],
          "name": "stdout"
        }
      ]
    },
    {
      "cell_type": "code",
      "metadata": {
        "colab": {
          "base_uri": "https://localhost:8080/"
        },
        "id": "k6S8foNTaRfN",
        "outputId": "ace06bad-f19e-4782-a40a-cc99770ee223"
      },
      "source": [
        "model.evaluate(X_test, y_test)"
      ],
      "execution_count": 74,
      "outputs": [
        {
          "output_type": "stream",
          "text": [
            "11/11 [==============================] - 0s 34ms/step - loss: 0.5285 - accuracy: 0.7139 - sensitivity: 0.5598 - specificity: 0.8582\n"
          ],
          "name": "stdout"
        },
        {
          "output_type": "execute_result",
          "data": {
            "text/plain": [
              "[0.5284646153450012,\n",
              " 0.7138643264770508,\n",
              " 0.5597558617591858,\n",
              " 0.8581674098968506]"
            ]
          },
          "metadata": {
            "tags": []
          },
          "execution_count": 74
        }
      ]
    },
    {
      "cell_type": "code",
      "metadata": {
        "colab": {
          "base_uri": "https://localhost:8080/",
          "height": 531
        },
        "id": "dSVWm2d868Va",
        "outputId": "8ec9f18b-5a79-4e19-b410-6e730f619b42"
      },
      "source": [
        "accuracy = history_dict['accuracy']   \n",
        "val_accuracy = history_dict['val_accuracy']\n",
        "epochs = range(1, len(accuracy) + 1)\n",
        "plt.figure(figsize=(16,8))\n",
        "plt.subplot(1,2,1)\n",
        "plt.title(\"Train-val accuracy\")\n",
        "plt.plot(epochs, accuracy, 'r', label='Train accuracy')\n",
        "plt.plot(epochs, val_accuracy, 'orange', label='val accuracy')\n",
        "plt.xlabel('Epochs')\n",
        "plt.ylabel('Accuracy')\n",
        "plt.ylim(0,1.01)\n",
        "plt.legend()\n",
        "\n",
        "loss = history_dict['loss']   \n",
        "val_loss = history_dict['val_loss']\n",
        "\n",
        "plt.subplot(1,2,2)\n",
        "epochs = range(1, len(loss) + 1)\n",
        "plt.title(\"Train-val loss\")\n",
        "plt.plot(epochs, loss, 'r', label='Train loss')\n",
        "plt.plot(epochs, val_loss, 'orange', label='val loss')\n",
        "plt.xlabel('Epochs')\n",
        "plt.ylabel('loss')\n",
        "plt.ylim(0,1.01)\n",
        "plt.legend()"
      ],
      "execution_count": 75,
      "outputs": [
        {
          "output_type": "execute_result",
          "data": {
            "text/plain": [
              "<matplotlib.legend.Legend at 0x7fab3b3ac190>"
            ]
          },
          "metadata": {
            "tags": []
          },
          "execution_count": 75
        },
        {
          "output_type": "display_data",
          "data": {
            "image/png": "[encoded data removed]",
            "text/plain": [
              "<Figure size 1152x576 with 2 Axes>"
            ]
          },
          "metadata": {
            "tags": [],
            "needs_background": "light"
          }
        }
      ]
    },
    {
      "cell_type": "code",
      "metadata": {
        "id": "NQlIs1k26-za"
      },
      "source": [
        ""
      ],
      "execution_count": 57,
      "outputs": []
    }
  ]
}