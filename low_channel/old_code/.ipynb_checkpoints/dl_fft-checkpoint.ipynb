{
 "cells": [
  {
   "cell_type": "code",
   "execution_count": 41,
   "metadata": {
    "pycharm": {
     "is_executing": false
    }
   },
   "outputs": [],
   "source": [
    "import pandas as pd\n",
    "import numpy as np\n",
    "import matplotlib.pyplot as plt\n",
    "import matplotlib.dates as md\n",
    "import os\n",
    "import mne\n",
    "import random\n",
    "from sklearn.metrics import classification_report"
   ]
  },
  {
   "cell_type": "code",
   "execution_count": 42,
   "metadata": {
    "pycharm": {
     "is_executing": false,
     "name": "#%%\n"
    }
   },
   "outputs": [
    {
     "name": "stdout",
     "output_type": "stream",
     "text": [
      "Extracting EDF parameters from C:\\python\\study\\4월3주\\depression\\dataset\\EC\\MDD S1 EC.edf...\n",
      "EDF file detected\n",
      "Setting channel info structure...\n",
      "Creating raw.info structure...\n",
      "Extracting EDF parameters from C:\\python\\study\\4월3주\\depression\\dataset\\EC\\MDD S10 EC.edf...\n",
      "EDF file detected\n",
      "Setting channel info structure...\n",
      "Creating raw.info structure...\n",
      "Extracting EDF parameters from C:\\python\\study\\4월3주\\depression\\dataset\\EC\\MDD S11 EC.edf...\n",
      "EDF file detected\n",
      "Setting channel info structure...\n",
      "Creating raw.info structure...\n",
      "Extracting EDF parameters from C:\\python\\study\\4월3주\\depression\\dataset\\EC\\MDD S12 EC.edf...\n",
      "EDF file detected\n",
      "Setting channel info structure...\n",
      "Creating raw.info structure...\n",
      "Extracting EDF parameters from C:\\python\\study\\4월3주\\depression\\dataset\\EC\\MDD S13 EC.edf...\n",
      "EDF file detected\n",
      "Setting channel info structure...\n",
      "Creating raw.info structure...\n",
      "Extracting EDF parameters from C:\\python\\study\\4월3주\\depression\\dataset\\EC\\MDD S14 EC.edf...\n",
      "EDF file detected\n",
      "Setting channel info structure...\n",
      "Creating raw.info structure...\n",
      "Extracting EDF parameters from C:\\python\\study\\4월3주\\depression\\dataset\\EC\\MDD S15 EC.edf...\n",
      "EDF file detected\n",
      "Setting channel info structure...\n",
      "Creating raw.info structure...\n",
      "Extracting EDF parameters from C:\\python\\study\\4월3주\\depression\\dataset\\EC\\MDD S16 EC.edf...\n",
      "EDF file detected\n",
      "Setting channel info structure...\n",
      "Creating raw.info structure...\n",
      "Extracting EDF parameters from C:\\python\\study\\4월3주\\depression\\dataset\\EC\\MDD S17 EC.edf...\n",
      "EDF file detected\n",
      "Setting channel info structure...\n",
      "Creating raw.info structure...\n",
      "Extracting EDF parameters from C:\\python\\study\\4월3주\\depression\\dataset\\EC\\MDD S18 EC.edf...\n",
      "EDF file detected\n",
      "Setting channel info structure...\n",
      "Creating raw.info structure...\n",
      "Extracting EDF parameters from C:\\python\\study\\4월3주\\depression\\dataset\\EC\\MDD S19 EC.edf...\n",
      "EDF file detected\n",
      "Setting channel info structure...\n",
      "Creating raw.info structure...\n",
      "Extracting EDF parameters from C:\\python\\study\\4월3주\\depression\\dataset\\EC\\MDD S2 EC.edf...\n",
      "EDF file detected\n",
      "Setting channel info structure...\n",
      "Creating raw.info structure...\n",
      "Extracting EDF parameters from C:\\python\\study\\4월3주\\depression\\dataset\\EC\\MDD S20 EC.edf...\n",
      "EDF file detected\n",
      "Setting channel info structure...\n",
      "Creating raw.info structure...\n",
      "Extracting EDF parameters from C:\\python\\study\\4월3주\\depression\\dataset\\EC\\MDD S21 EC.edf...\n",
      "EDF file detected\n",
      "Setting channel info structure...\n",
      "Creating raw.info structure...\n",
      "Extracting EDF parameters from C:\\python\\study\\4월3주\\depression\\dataset\\EC\\MDD S22 EC.edf...\n",
      "EDF file detected\n",
      "Setting channel info structure...\n",
      "Creating raw.info structure...\n",
      "Extracting EDF parameters from C:\\python\\study\\4월3주\\depression\\dataset\\EC\\MDD S23 EC.edf...\n",
      "EDF file detected\n",
      "Setting channel info structure...\n",
      "Creating raw.info structure...\n",
      "Extracting EDF parameters from C:\\python\\study\\4월3주\\depression\\dataset\\EC\\MDD S24 EC.edf...\n",
      "EDF file detected\n",
      "Setting channel info structure...\n",
      "Creating raw.info structure...\n",
      "Extracting EDF parameters from C:\\python\\study\\4월3주\\depression\\dataset\\EC\\MDD S25 EC.edf...\n",
      "EDF file detected\n",
      "Setting channel info structure...\n",
      "Creating raw.info structure...\n",
      "Extracting EDF parameters from C:\\python\\study\\4월3주\\depression\\dataset\\EC\\MDD S26 EC.edf...\n",
      "EDF file detected\n",
      "Setting channel info structure...\n",
      "Creating raw.info structure...\n",
      "Extracting EDF parameters from C:\\python\\study\\4월3주\\depression\\dataset\\EC\\MDD S27 EC.edf...\n",
      "EDF file detected\n",
      "Setting channel info structure...\n",
      "Creating raw.info structure...\n",
      "Extracting EDF parameters from C:\\python\\study\\4월3주\\depression\\dataset\\EC\\MDD S28 EC.edf...\n",
      "EDF file detected\n",
      "Setting channel info structure...\n",
      "Creating raw.info structure...\n",
      "Extracting EDF parameters from C:\\python\\study\\4월3주\\depression\\dataset\\EC\\MDD S3 EC.edf...\n",
      "EDF file detected\n",
      "Setting channel info structure...\n",
      "Creating raw.info structure...\n",
      "Extracting EDF parameters from C:\\python\\study\\4월3주\\depression\\dataset\\EC\\MDD S4 EC.edf...\n",
      "EDF file detected\n",
      "Setting channel info structure...\n",
      "Creating raw.info structure...\n",
      "Extracting EDF parameters from C:\\python\\study\\4월3주\\depression\\dataset\\EC\\MDD S5 EC.edf...\n",
      "EDF file detected\n",
      "Setting channel info structure...\n",
      "Creating raw.info structure...\n",
      "Extracting EDF parameters from C:\\python\\study\\4월3주\\depression\\dataset\\EC\\MDD S6 EC.edf...\n",
      "EDF file detected\n",
      "Setting channel info structure...\n",
      "Creating raw.info structure...\n",
      "Extracting EDF parameters from C:\\python\\study\\4월3주\\depression\\dataset\\EC\\MDD S7 EC.edf...\n",
      "EDF file detected\n",
      "Setting channel info structure...\n",
      "Creating raw.info structure...\n",
      "Extracting EDF parameters from C:\\python\\study\\4월3주\\depression\\dataset\\EC\\MDD S8 EC.edf...\n",
      "EDF file detected\n",
      "Setting channel info structure...\n",
      "Creating raw.info structure...\n",
      "Extracting EDF parameters from C:\\python\\study\\4월3주\\depression\\dataset\\EC\\MDD S9 EC.edf...\n",
      "EDF file detected\n",
      "Setting channel info structure...\n",
      "Creating raw.info structure...\n",
      "Extracting EDF parameters from C:\\python\\study\\4월3주\\depression\\dataset\\EC\\MDD W29 EC.edf...\n",
      "EDF file detected\n",
      "Setting channel info structure...\n",
      "Creating raw.info structure...\n",
      "Extracting EDF parameters from C:\\python\\study\\4월3주\\depression\\dataset\\EC\\MDD W30 EC.edf...\n",
      "EDF file detected\n",
      "Setting channel info structure...\n",
      "Creating raw.info structure...\n",
      "Extracting EDF parameters from C:\\python\\study\\4월3주\\depression\\dataset\\EC\\S1 EC.edf...\n",
      "EDF file detected\n",
      "Setting channel info structure...\n",
      "Creating raw.info structure...\n",
      "Extracting EDF parameters from C:\\python\\study\\4월3주\\depression\\dataset\\EC\\S10  EC.edf...\n",
      "EDF file detected\n",
      "Setting channel info structure...\n",
      "Creating raw.info structure...\n",
      "Extracting EDF parameters from C:\\python\\study\\4월3주\\depression\\dataset\\EC\\S11  EC.edf...\n",
      "EDF file detected\n",
      "Setting channel info structure...\n",
      "Creating raw.info structure...\n",
      "Extracting EDF parameters from C:\\python\\study\\4월3주\\depression\\dataset\\EC\\S12  EC.edf...\n",
      "EDF file detected\n",
      "Setting channel info structure...\n",
      "Creating raw.info structure...\n",
      "Extracting EDF parameters from C:\\python\\study\\4월3주\\depression\\dataset\\EC\\S13  EC.edf...\n",
      "EDF file detected\n",
      "Setting channel info structure...\n",
      "Creating raw.info structure...\n",
      "Extracting EDF parameters from C:\\python\\study\\4월3주\\depression\\dataset\\EC\\S14  EC.edf...\n",
      "EDF file detected\n",
      "Setting channel info structure...\n",
      "Creating raw.info structure...\n",
      "Extracting EDF parameters from C:\\python\\study\\4월3주\\depression\\dataset\\EC\\S15  EC.edf...\n",
      "EDF file detected\n",
      "Setting channel info structure...\n",
      "Creating raw.info structure...\n",
      "Extracting EDF parameters from C:\\python\\study\\4월3주\\depression\\dataset\\EC\\S2 EC.edf...\n",
      "EDF file detected\n",
      "Setting channel info structure...\n",
      "Creating raw.info structure...\n",
      "Extracting EDF parameters from C:\\python\\study\\4월3주\\depression\\dataset\\EC\\S3  EC.edf...\n",
      "EDF file detected\n",
      "Setting channel info structure...\n",
      "Creating raw.info structure...\n",
      "Extracting EDF parameters from C:\\python\\study\\4월3주\\depression\\dataset\\EC\\S4  EC.edf...\n",
      "EDF file detected\n",
      "Setting channel info structure...\n",
      "Creating raw.info structure...\n",
      "Extracting EDF parameters from C:\\python\\study\\4월3주\\depression\\dataset\\EC\\S5  EC.edf...\n",
      "EDF file detected\n",
      "Setting channel info structure...\n",
      "Creating raw.info structure...\n",
      "Extracting EDF parameters from C:\\python\\study\\4월3주\\depression\\dataset\\EC\\S6  EC.edf...\n",
      "EDF file detected\n",
      "Setting channel info structure...\n",
      "Creating raw.info structure...\n",
      "Extracting EDF parameters from C:\\python\\study\\4월3주\\depression\\dataset\\EC\\S7  EC.edf...\n",
      "EDF file detected\n",
      "Setting channel info structure...\n",
      "Creating raw.info structure...\n",
      "Extracting EDF parameters from C:\\python\\study\\4월3주\\depression\\dataset\\EC\\S8  EC.edf...\n",
      "EDF file detected\n",
      "Setting channel info structure...\n",
      "Creating raw.info structure...\n",
      "Extracting EDF parameters from C:\\python\\study\\4월3주\\depression\\dataset\\EC\\S9  EC.edf...\n",
      "EDF file detected\n",
      "Setting channel info structure...\n",
      "Creating raw.info structure...\n"
     ]
    }
   ],
   "source": [
    "MDD_dataset_Filenames = os.listdir('./data/MDD')\n",
    "H_dataset_Filenames = os.listdir('./data/H')\n",
    "MDD_dataset_list = []\n",
    "H_dataset_list = []\n",
    "\n",
    "for filename in MDD_dataset_Filenames:\n",
    "    data = mne.io.read_raw_edf('./dataset/EC/' + str(filename))\n",
    "    MDD_dataset_list.append(data)  \n",
    "    \n",
    "for filename in H_dataset_Filenames:\n",
    "    data = mne.io.read_raw_edf('./dataset/EC/' + str(filename))\n",
    "    H_dataset_list.append(data)  \n",
    "\n"
   ]
  },
  {
   "cell_type": "code",
   "execution_count": 43,
   "metadata": {
    "pycharm": {
     "is_executing": false,
     "name": "#%%\n"
    }
   },
   "outputs": [],
   "source": [
    "MDD_dataframe_list = [] #MDD 환자의 데이터프레임 리스트\n",
    "H_dataframe_list = [] #건강한 사람의 데이터프레임 리스트\n",
    "for raw in MDD_dataset_list:\n",
    "    raw_data = raw.get_data(return_times=True)\n",
    "    channels = raw.ch_names\n",
    "    T_data = np.transpose(raw_data[0])\n",
    "    time = np.transpose(raw_data[1])\n",
    "    temp = pd.DataFrame(T_data, columns = channels, index = time)\n",
    "    MDD_dataframe_list.append(temp)\n",
    "    \n",
    "for raw in H_dataset_list:\n",
    "    raw_data = raw.get_data(return_times=True)\n",
    "    channels = raw.ch_names\n",
    "    T_data = np.transpose(raw_data[0])\n",
    "    time = np.transpose(raw_data[1])\n",
    "    temp = pd.DataFrame(T_data, columns = channels, index = time)\n",
    "    H_dataframe_list.append(temp)\n",
    "\n",
    "MDD_dataframe_list[23].rename(columns = {'E F3-Ref': 'F3'}, inplace = True)"
   ]
  },
  {
   "cell_type": "code",
   "execution_count": 44,
   "metadata": {
    "pycharm": {
     "is_executing": false,
     "name": "#%%\n"
    }
   },
   "outputs": [],
   "source": [
    "X = {}\n",
    "y = []\n",
    "for i in range(len(MDD_dataframe_list)):\n",
    "    a = MDD_dataframe_list[i]\n",
    "    #데이터 클린징\n",
    "    a.F3 = a.F3[a.F3 > -0.0005]\n",
    "    a = a.fillna(method='ffill')\n",
    "    fft = np.fft.fft(a['F3'])\n",
    "    fft = np.abs(fft)\n",
    "    X\n",
    "    X[i] = fft\n",
    "    y.append(1)\n",
    "    \n",
    "for i in range(30, 30+len(H_dataframe_list)):\n",
    "    a = H_dataframe_list[30-i]\n",
    "    a.rename(columns = {'EEG F3-LE' : 'F3'}, inplace = True)\n",
    "    #데이터 클린징\n",
    "    a.F3 = a.F3[a.F3 > -0.0005]\n",
    "    a = a.fillna(method='ffill')\n",
    "    fft = np.fft.fft(a['F3'])\n",
    "    fft = np.abs(fft)\n",
    "    X[i] = fft\n",
    "    y.append(0)\n",
    "    \n",
    "X = pd.DataFrame.from_dict(X, orient='index')\n",
    "X_T = X.T\n",
    "X['target'] = y"
   ]
  },
  {
   "cell_type": "code",
   "execution_count": 45,
   "metadata": {
    "pycharm": {
     "is_executing": false
    }
   },
   "outputs": [],
   "source": [
    "X = X.fillna(0)"
   ]
  },
  {
   "cell_type": "code",
   "execution_count": 46,
   "metadata": {},
   "outputs": [
    {
     "data": {
      "image/png": "[encoded data removed]",
      "text/plain": [
       "<Figure size 1080x1080 with 29 Axes>"
      ]
     },
     "metadata": {
      "needs_background": "light"
     },
     "output_type": "display_data"
    }
   ],
   "source": [
    "plt.figure(figsize = (15,15))\n",
    "for i in range(1,30):\n",
    "    plt.subplot(6,7,i)\n",
    "    plt.plot(X_T[i])\n",
    "    plt.ylim(0,0.02)\n",
    "plt.show()"
   ]
  },
  {
   "cell_type": "code",
   "execution_count": 35,
   "metadata": {},
   "outputs": [
    {
     "data": {
      "image/png": "[encoded data removed]",
      "text/plain": [
       "<Figure size 720x720 with 14 Axes>"
      ]
     },
     "metadata": {
      "needs_background": "light"
     },
     "output_type": "display_data"
    }
   ],
   "source": [
    "plt.figure(figsize = (15,15))\n",
    "for i in range(1,15):\n",
    "    plt.subplot(4,4,i)\n",
    "    plt.plot(X_T[29+i])\n",
    "    plt.ylim(0,0.02)\n",
    "plt.show()"
   ]
  },
  {
   "cell_type": "code",
   "execution_count": 47,
   "metadata": {
    "pycharm": {
     "is_executing": false,
     "name": "#%%\n"
    }
   },
   "outputs": [],
   "source": [
    "# 타겟 컬럼과 특징 컬럼 정의\n",
    "\n",
    "target_col = 'target'\n",
    "target = X[target_col]\n",
    "features = X[X.columns.difference(['target'])]\n"
   ]
  },
  {
   "cell_type": "code",
   "execution_count": 48,
   "metadata": {
    "pycharm": {
     "is_executing": false,
     "name": "#%%\n"
    }
   },
   "outputs": [],
   "source": [
    "from sklearn.model_selection import train_test_split\n",
    "X_train, X_test, y_train, y_test = train_test_split(features, target, test_size=0.5)"
   ]
  },
  {
   "cell_type": "code",
   "execution_count": 49,
   "metadata": {
    "pycharm": {
     "is_executing": false,
     "name": "#%%\n"
    }
   },
   "outputs": [
    {
     "data": {
      "text/plain": [
       "SVC(C=1.0, cache_size=200, class_weight=None, coef0=0.0,\n",
       "    decision_function_shape='ovr', degree=3, gamma='auto_deprecated',\n",
       "    kernel='linear', max_iter=-1, probability=False, random_state=0,\n",
       "    shrinking=True, tol=0.001, verbose=False)"
      ]
     },
     "execution_count": 49,
     "metadata": {},
     "output_type": "execute_result"
    }
   ],
   "source": [
    "from sklearn.svm import SVC\n",
    "#SVM Model\n",
    "svm_linear = SVC(kernel='linear', random_state=0)\n",
    "svm_linear.fit(X_train, y_train)\n"
   ]
  },
  {
   "cell_type": "code",
   "execution_count": 50,
   "metadata": {
    "pycharm": {
     "is_executing": false,
     "name": "#%%\n"
    }
   },
   "outputs": [
    {
     "name": "stdout",
     "output_type": "stream",
     "text": [
      "테스트 세트 예측 :  [1 1 1 1 1 1 1 1 1 1 1 1 1 1 1 1 1 1 1 1 1 1 1]\n",
      "테스트 세트 정확도 :  0.7391304347826086\n",
      "              precision    recall  f1-score   support\n",
      "\n",
      "           0       0.00      0.00      0.00         6\n",
      "           1       0.74      1.00      0.85        17\n",
      "\n",
      "    accuracy                           0.74        23\n",
      "   macro avg       0.37      0.50      0.42        23\n",
      "weighted avg       0.55      0.74      0.63        23\n",
      "\n"
     ]
    },
    {
     "name": "stderr",
     "output_type": "stream",
     "text": [
      "C:\\Users\\mws10\\Anaconda3\\lib\\site-packages\\sklearn\\metrics\\classification.py:1437: UndefinedMetricWarning: Precision and F-score are ill-defined and being set to 0.0 in labels with no predicted samples.\n",
      "  'precision', 'predicted', average, warn_for)\n"
     ]
    }
   ],
   "source": [
    "#SVM 선형 평가\n",
    "print(\"테스트 세트 예측 : \", svm_linear.predict(X_test))\n",
    "print(\"테스트 세트 정확도 : \", svm_linear.score(X_test, y_test))\n",
    "\n",
    "y_pred = svm_linear.predict(X_test)\n",
    "print(classification_report(y_test, y_pred))\n"
   ]
  },
  {
   "cell_type": "code",
   "execution_count": 51,
   "metadata": {
    "pycharm": {
     "is_executing": false,
     "name": "#%%\n"
    }
   },
   "outputs": [],
   "source": [
    "from sklearn.metrics import roc_curve\n",
    "from keras import models\n",
    "from keras import layers\n",
    "from keras import backend as K\n",
    "\n",
    "def recall_m(y_true, y_pred):\n",
    "    true_positives = K.sum(K.round(K.clip(y_true * y_pred, 0, 1)))\n",
    "    possible_positives = K.sum(K.round(K.clip(y_true, 0, 1)))\n",
    "    recall = true_positives / (possible_positives + K.epsilon())\n",
    "    return recall\n",
    "\n",
    "def precision_m(y_true, y_pred):\n",
    "    true_positives = K.sum(K.round(K.clip(y_true * y_pred, 0, 1)))\n",
    "    predicted_positives = K.sum(K.round(K.clip(y_pred, 0, 1)))\n",
    "    precision = true_positives / (predicted_positives + K.epsilon())\n",
    "    return precision\n",
    "\n",
    "def f1_m(y_true, y_pred):\n",
    "    precision = precision_m(y_true, y_pred)\n",
    "    recall = recall_m(y_true, y_pred)\n",
    "    return 2*((precision*recall)/(precision+recall+K.epsilon()))\n"
   ]
  },
  {
   "cell_type": "code",
   "execution_count": 53,
   "metadata": {
    "pycharm": {
     "is_executing": false,
     "name": "#%%\n"
    }
   },
   "outputs": [
    {
     "name": "stdout",
     "output_type": "stream",
     "text": [
      "Epoch 1/10\n",
      "22/22 [==============================] - 2s 69ms/step - loss: 0.6931 - accuracy: 0.4545 - recall_m: 0.3846 - precision_m: 0.5556 - f1_m: 0.4545\n",
      "Epoch 2/10\n",
      "22/22 [==============================] - 0s 7ms/step - loss: 0.6409 - accuracy: 0.4091 - recall_m: 0.0000e+00 - precision_m: 0.0000e+00 - f1_m: 0.0000e+00\n",
      "Epoch 3/10\n",
      "22/22 [==============================] - 0s 7ms/step - loss: 0.5730 - accuracy: 1.0000 - recall_m: 1.0000 - precision_m: 1.0000 - f1_m: 1.0000\n",
      "Epoch 4/10\n",
      "22/22 [==============================] - 0s 7ms/step - loss: 0.5048 - accuracy: 0.9091 - recall_m: 0.8462 - precision_m: 1.0000 - f1_m: 0.9167\n",
      "Epoch 5/10\n",
      "22/22 [==============================] - 0s 6ms/step - loss: 0.4531 - accuracy: 1.0000 - recall_m: 1.0000 - precision_m: 1.0000 - f1_m: 1.0000\n",
      "Epoch 6/10\n",
      "22/22 [==============================] - 0s 6ms/step - loss: 0.4069 - accuracy: 1.0000 - recall_m: 1.0000 - precision_m: 1.0000 - f1_m: 1.0000\n",
      "Epoch 7/10\n",
      "22/22 [==============================] - 0s 6ms/step - loss: 0.3667 - accuracy: 1.0000 - recall_m: 1.0000 - precision_m: 1.0000 - f1_m: 1.0000\n",
      "Epoch 8/10\n",
      "22/22 [==============================] - 0s 6ms/step - loss: 0.3267 - accuracy: 1.0000 - recall_m: 1.0000 - precision_m: 1.0000 - f1_m: 1.0000\n",
      "Epoch 9/10\n",
      "22/22 [==============================] - 0s 6ms/step - loss: 0.2931 - accuracy: 1.0000 - recall_m: 1.0000 - precision_m: 1.0000 - f1_m: 1.0000\n",
      "Epoch 10/10\n",
      "22/22 [==============================] - 0s 6ms/step - loss: 0.2627 - accuracy: 1.0000 - recall_m: 1.0000 - precision_m: 1.0000 - f1_m: 1.0000\n"
     ]
    }
   ],
   "source": [
    "model = models.Sequential()\n",
    "model.add(layers.Dense(64, activation = 'relu', input_shape = (77312,)))\n",
    "model.add(layers.Dense(64, activation = 'relu'))\n",
    "model.add(layers.Dense(1, activation = 'sigmoid'))\n",
    "\n",
    "model.compile(optimizer='rmsprop',\n",
    "              loss='binary_crossentropy',\n",
    "              metrics=['accuracy', recall_m, precision_m, f1_m])\n",
    "\n",
    "history = model.fit(X_train,\n",
    "                    y_train,\n",
    "                    epochs=10,\n",
    "                    batch_size=128)"
   ]
  },
  {
   "cell_type": "code",
   "execution_count": 57,
   "metadata": {
    "pycharm": {
     "is_executing": false,
     "name": "#%%\n"
    }
   },
   "outputs": [
    {
     "name": "stdout",
     "output_type": "stream",
     "text": [
      "23/23 [==============================] - 0s 4ms/step\n",
      "loss = 0.3771750330924988\n",
      "acc = 0.9130434989929199\n",
      "recall = 1.0\n",
      "pre = 0.8947368264198303\n",
      "f1 = 0.9444443583488464\n"
     ]
    }
   ],
   "source": [
    "results = model.evaluate(X_test, y_test)\n",
    "evaluate_option = ['loss','acc','recall','pre','f1']\n",
    "for i in range(len(results)):\n",
    "    print('{} = {}'.format(evaluate_option[i], results[i]))"
   ]
  },
  {
   "cell_type": "code",
   "execution_count": 58,
   "metadata": {
    "pycharm": {
     "is_executing": false,
     "name": "#%%\n"
    }
   },
   "outputs": [
    {
     "name": "stdout",
     "output_type": "stream",
     "text": [
      "Model: \"sequential_13\"\n",
      "_________________________________________________________________\n",
      "Layer (type)                 Output Shape              Param #   \n",
      "=================================================================\n",
      "dense_37 (Dense)             (None, 64)                4948032   \n",
      "_________________________________________________________________\n",
      "dense_38 (Dense)             (None, 64)                4160      \n",
      "_________________________________________________________________\n",
      "dense_39 (Dense)             (None, 1)                 65        \n",
      "=================================================================\n",
      "Total params: 4,952,257\n",
      "Trainable params: 4,952,257\n",
      "Non-trainable params: 0\n",
      "_________________________________________________________________\n"
     ]
    }
   ],
   "source": [
    "model.summary()"
   ]
  },
  {
   "cell_type": "code",
   "execution_count": 59,
   "metadata": {
    "pycharm": {
     "is_executing": false
    }
   },
   "outputs": [
    {
     "name": "stdout",
     "output_type": "stream",
     "text": [
      "23/23 [==============================] - 0s 11ms/step\n",
      "mse[0.37717499227627466, 0.9130434989929199, 0.7391303777694702, 0.7391303777694702, 0.7391303777694702]\n"
     ]
    }
   ],
   "source": [
    "mse = model.evaluate(X_test, y_test, batch_size=1)\n",
    "print(\"mse{}\".format(mse))\n"
   ]
  },
  {
   "cell_type": "code",
   "execution_count": 61,
   "metadata": {
    "pycharm": {
     "is_executing": false
    }
   },
   "outputs": [
    {
     "name": "stdout",
     "output_type": "stream",
     "text": [
      "[0.         0.         0.         0.16666667 0.16666667 0.33333333\n",
      " 0.33333333 1.        ] [0.         0.05882353 0.52941176 0.52941176 0.94117647 0.94117647\n",
      " 1.         1.        ]\n"
     ]
    }
   ],
   "source": [
    "from sklearn.metrics import roc_curve\n",
    "y_pred_keras = model.predict(X_test).ravel()\n",
    "fpr_keras, tpr_keras, thresholds_keras = roc_curve(y_test, y_pred_keras)\n",
    "print(fpr_keras, tpr_keras)\n"
   ]
  },
  {
   "cell_type": "code",
   "execution_count": 62,
   "metadata": {
    "pycharm": {
     "is_executing": false
    }
   },
   "outputs": [
    {
     "name": "stdout",
     "output_type": "stream",
     "text": [
      "0.911764705882353\n"
     ]
    }
   ],
   "source": [
    "from sklearn.metrics import auc\n",
    "auc_keras = auc(fpr_keras, tpr_keras)\n",
    "print(auc_keras)"
   ]
  },
  {
   "cell_type": "code",
   "execution_count": 64,
   "metadata": {
    "pycharm": {
     "is_executing": false
    }
   },
   "outputs": [
    {
     "data": {
      "image/png": "[encoded data removed]",
      "text/plain": [
       "<Figure size 432x288 with 1 Axes>"
      ]
     },
     "metadata": {
      "needs_background": "light"
     },
     "output_type": "display_data"
    }
   ],
   "source": [
    "plt.figure(1)\n",
    "plt.plot([0, 1], [0, 1], 'k--')\n",
    "plt.plot(fpr_keras, tpr_keras, label='Keras (area = {:.3f})'.format(auc_keras))\n",
    "plt.xlabel('False positive rate')\n",
    "plt.ylabel('True positive rate')\n",
    "plt.title('ROC curve')\n",
    "plt.legend(loc='best')\n",
    "plt.show()\n"
   ]
  },
  {
   "cell_type": "code",
   "execution_count": 65,
   "metadata": {
    "pycharm": {
     "is_executing": false,
     "name": "#%%\n"
    }
   },
   "outputs": [
    {
     "name": "stdout",
     "output_type": "stream",
     "text": [
      "accuracy: 100.00%\n",
      "recall_m: 100.00%\n",
      "precision_m: 100.00%\n",
      "f1_m: 100.00%\n",
      "\n",
      "\n",
      "accuracy: 88.89%\n",
      "recall_m: 100.00%\n",
      "precision_m: 83.33%\n",
      "f1_m: 90.91%\n",
      "\n",
      "\n",
      "accuracy: 88.89%\n",
      "recall_m: 100.00%\n",
      "precision_m: 83.33%\n",
      "f1_m: 90.91%\n",
      "\n",
      "\n",
      "accuracy: 88.89%\n",
      "recall_m: 100.00%\n",
      "precision_m: 85.71%\n",
      "f1_m: 92.31%\n",
      "\n",
      "\n",
      "accuracy: 88.89%\n",
      "recall_m: 100.00%\n",
      "precision_m: 87.50%\n",
      "f1_m: 93.33%\n",
      "\n",
      "\n",
      "91.11 (+/- 4.44%)\n",
      "1.00 (+/- 0.00%)\n",
      "0.88 (+/- 0.06%)\n",
      "0.93 (+/- 0.03%)\n"
     ]
    }
   ],
   "source": [
    "\n",
    "accuracy_scores = []\n",
    "prec_scores = []\n",
    "rec_scores = []\n",
    "f1_scores = []\n",
    "\n",
    "from sklearn.model_selection import KFold\n",
    "kfold = KFold(n_splits=5, shuffle=True, random_state=3)\n",
    "for train, test in kfold.split(features, target):\n",
    "    k_model = models.Sequential()\n",
    "    k_model.add(layers.Dense(64, activation = 'relu', input_shape = (77312,)))\n",
    "    k_model.add(layers.Dense(64, activation = 'relu'))\n",
    "    k_model.add(layers.Dense(1, activation = 'sigmoid'))\n",
    "    \n",
    "    k_model.compile(optimizer='rmsprop',\n",
    "              loss='binary_crossentropy',\n",
    "              metrics=['accuracy', recall_m, precision_m, f1_m])\n",
    "    \n",
    "    k_model.fit(features.loc[train], target.loc[train], epochs=10, batch_size=512, verbose=0)\n",
    "    \n",
    "    scores = k_model.evaluate(features.loc[test], target.loc[test], verbose=0)\n",
    "    \n",
    "    print(\"%s: %.2f%%\" % (k_model.metrics_names[1], scores[1]*100))\n",
    "    print(\"%s: %.2f%%\" % (k_model.metrics_names[2], scores[2]*100))\n",
    "    print(\"%s: %.2f%%\" % (k_model.metrics_names[3], scores[3]*100))\n",
    "    print(\"%s: %.2f%%\" % (k_model.metrics_names[4], scores[4]*100))\n",
    "    print(\"\\n\")\n",
    "    accuracy_scores.append(scores[1] * 100)\n",
    "    prec_scores.append(scores[2])\n",
    "    rec_scores.append(scores[3])\n",
    "    f1_scores.append(scores[4])\n",
    "    \n",
    "print(\"%.2f (+/- %.2f%%)\" % (np.mean(accuracy_scores), np.std(accuracy_scores)))\n",
    "print(\"%.2f (+/- %.2f%%)\" % (np.mean(prec_scores), np.std(prec_scores)))\n",
    "print(\"%.2f (+/- %.2f%%)\" % (np.mean(rec_scores), np.std(rec_scores)))\n",
    "print(\"%.2f (+/- %.2f%%)\" % (np.mean(f1_scores), np.std(f1_scores)))"
   ]
  },
  {
   "cell_type": "code",
   "execution_count": null,
   "metadata": {
    "pycharm": {
     "is_executing": false,
     "name": "#%%\n"
    }
   },
   "outputs": [],
   "source": [
    "features.shape"
   ]
  },
  {
   "cell_type": "code",
   "execution_count": null,
   "metadata": {
    "pycharm": {
     "is_executing": false,
     "name": "#%%\n"
    }
   },
   "outputs": [],
   "source": []
  },
  {
   "cell_type": "code",
   "execution_count": null,
   "metadata": {
    "pycharm": {
     "is_executing": false,
     "name": "#%%\n"
    }
   },
   "outputs": [],
   "source": [
    "\n"
   ]
  },
  {
   "cell_type": "code",
   "execution_count": null,
   "metadata": {},
   "outputs": [],
   "source": []
  },
  {
   "cell_type": "code",
   "execution_count": null,
   "metadata": {},
   "outputs": [],
   "source": []
  },
  {
   "cell_type": "code",
   "execution_count": null,
   "metadata": {},
   "outputs": [],
   "source": []
  },
  {
   "cell_type": "code",
   "execution_count": null,
   "metadata": {},
   "outputs": [],
   "source": []
  },
  {
   "cell_type": "code",
   "execution_count": null,
   "metadata": {},
   "outputs": [],
   "source": []
  },
  {
   "cell_type": "code",
   "execution_count": null,
   "metadata": {},
   "outputs": [],
   "source": []
  },
  {
   "cell_type": "code",
   "execution_count": null,
   "metadata": {},
   "outputs": [],
   "source": []
  },
  {
   "cell_type": "code",
   "execution_count": null,
   "metadata": {},
   "outputs": [],
   "source": []
  },
  {
   "cell_type": "code",
   "execution_count": null,
   "metadata": {},
   "outputs": [],
   "source": []
  },
  {
   "cell_type": "code",
   "execution_count": null,
   "metadata": {},
   "outputs": [],
   "source": []
  },
  {
   "cell_type": "code",
   "execution_count": null,
   "metadata": {},
   "outputs": [],
   "source": []
  },
  {
   "cell_type": "code",
   "execution_count": null,
   "metadata": {},
   "outputs": [],
   "source": []
  },
  {
   "cell_type": "code",
   "execution_count": null,
   "metadata": {},
   "outputs": [],
   "source": []
  },
  {
   "cell_type": "code",
   "execution_count": null,
   "metadata": {},
   "outputs": [],
   "source": []
  },
  {
   "cell_type": "code",
   "execution_count": null,
   "metadata": {},
   "outputs": [],
   "source": []
  }
 ],
 "metadata": {
  "kernelspec": {
   "display_name": "Python 3",
   "language": "python",
   "name": "python3"
  },
  "language_info": {
   "codemirror_mode": {
    "name": "ipython",
    "version": 3
   },
   "file_extension": ".py",
   "mimetype": "text/x-python",
   "name": "python",
   "nbconvert_exporter": "python",
   "pygments_lexer": "ipython3",
   "version": "3.7.3"
  },
  "pycharm": {
   "stem_cell": {
    "cell_type": "raw",
    "metadata": {
     "collapsed": false
    },
    "source": []
   }
  }
 },
 "nbformat": 4,
 "nbformat_minor": 4
}
